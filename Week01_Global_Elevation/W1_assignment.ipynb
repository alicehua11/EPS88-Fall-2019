{
 "cells": [
  {
   "cell_type": "markdown",
   "metadata": {},
   "source": [
    "# Week 1 Assignment: Age of the seafloor\n",
    "\n",
    "**Our goals:**\n",
    "- Load and visualize global seafloor age.\n",
    "- Use global seafloor age distribution to make inferences about plate tectonic processes."
   ]
  },
  {
   "cell_type": "markdown",
   "metadata": {},
   "source": [
    "## Setup\n",
    "\n",
    "Run this cell to import the packages you will need."
   ]
  },
  {
   "cell_type": "code",
   "execution_count": null,
   "metadata": {},
   "outputs": [],
   "source": [
    "import numpy as np\n",
    "import matplotlib.pyplot as plt\n",
    "import pandas as pd\n",
    "from matplotlib import cm\n",
    "from cartopy import config\n",
    "import cartopy.crs as ccrs"
   ]
  },
  {
   "cell_type": "markdown",
   "metadata": {},
   "source": [
    "### Load Seafloor Age dataset\n",
    "\n",
    "We will load the data as a Pandas dataframe using the `pd.read_csv` function.\n",
    "\n",
    "- column 1 is longitude in degrees\n",
    "- column 2 is latitude in degrees\n",
    "- column 3 is seafloor age in million years"
   ]
  },
  {
   "cell_type": "code",
   "execution_count": null,
   "metadata": {},
   "outputs": [],
   "source": [
    "seafloor_age_data = pd.read_csv('data/age.csv')\n",
    "seafloor_age_data.head()"
   ]
  },
  {
   "cell_type": "markdown",
   "metadata": {},
   "source": [
    "Pandas dataframes are super useful and we will use them a lot. Watch this video for an introduction to the pandas library."
   ]
  },
  {
   "cell_type": "code",
   "execution_count": null,
   "metadata": {},
   "outputs": [],
   "source": [
    "from IPython.display import YouTubeVideo\n",
    "# Why Earth Has Two Levels | Hypsometric Curve\n",
    "# Video credit: MinuteEarth\n",
    "# Start at 3s, End at 2:25\n",
    "YouTubeVideo('XDAnFZqJDvI', width=\"1000\", height=\"500\")"
   ]
  },
  {
   "cell_type": "markdown",
   "metadata": {},
   "source": [
    "As Yufeng introduced, the .describe function provides summary statistics on a dataframe. Our dataframe is called `seafloor_age_data`. Just like we applied the function `.head()` to the dataframe after we imported it, the function `describe` can be applied to the dataframe to get this summary. Do this in the cell below."
   ]
  },
  {
   "cell_type": "code",
   "execution_count": null,
   "metadata": {},
   "outputs": [],
   "source": [
    "#Apply the describe function to the data here"
   ]
  },
  {
   "cell_type": "markdown",
   "metadata": {},
   "source": [
    "**How old is the oldest seafloor in comparison with the age of Earth and why is there such a large difference?**"
   ]
  },
  {
   "cell_type": "markdown",
   "metadata": {},
   "source": [
    "_Write your answer here._"
   ]
  },
  {
   "cell_type": "markdown",
   "metadata": {},
   "source": [
    "### Plot a histogram of seafloor age\n",
    "\n",
    "#### Access data in a single column\n",
    "\n",
    "As Yufeng described in the video, the values of a particular column within a dataframe can be accessed using bracket notation. So to just get the age values, we can use the notation `seafloor_age_data['age_Ma']` as in the cell below:"
   ]
  },
  {
   "cell_type": "code",
   "execution_count": null,
   "metadata": {},
   "outputs": [],
   "source": [
    "seafloor_age_data['age_Ma']"
   ]
  },
  {
   "cell_type": "markdown",
   "metadata": {},
   "source": [
    "We can use `seafloor_age_data['age_Ma']` as input to a plot such as a histogram. In class, we plotted a histogram of global elevation. Here I want you to plot a histogram of seafloor age. Label the axes of your plot and give it a title."
   ]
  },
  {
   "cell_type": "code",
   "execution_count": null,
   "metadata": {},
   "outputs": [],
   "source": [
    "#Make a histogram here"
   ]
  },
  {
   "cell_type": "markdown",
   "metadata": {},
   "source": [
    "### Seafloor Age Map"
   ]
  },
  {
   "cell_type": "markdown",
   "metadata": {},
   "source": [
    "To help make the map, let's make the columns of the Pandas dataframe be numpy arrays."
   ]
  },
  {
   "cell_type": "code",
   "execution_count": null,
   "metadata": {},
   "outputs": [],
   "source": [
    "age_longitude = np.asarray(age_data.Longitude)\n",
    "age_latitude = np.asarray(age_data.Latitude)\n",
    "age = np.asarray(age_data.Age_Myr)"
   ]
  },
  {
   "cell_type": "markdown",
   "metadata": {},
   "source": [
    "As we did in-class, we need to reshape of arrays of data into grids in order to map. Reshape the data into (901,1801) sized grids.\n",
    "\n",
    "Replace the ...'s below to do so."
   ]
  },
  {
   "cell_type": "code",
   "execution_count": null,
   "metadata": {},
   "outputs": [],
   "source": [
    "age_grid = age.reshape(...)\n",
    "age_long_grid = age_longitude.reshape(...)\n",
    "age_lat_grid = age_latitude.reshape(...)"
   ]
  },
  {
   "cell_type": "markdown",
   "metadata": {},
   "source": [
    "Use the grids of latitude and longtitude you just made to plot a map of seafloor age.\n",
    "\n",
    "Replace the ... below in `plt.contourf` in order to make such a map."
   ]
  },
  {
   "cell_type": "code",
   "execution_count": null,
   "metadata": {},
   "outputs": [],
   "source": [
    "plt.figure(1,(15,15))\n",
    "ax = plt.axes(projection=ccrs.Robinson())\n",
    "ax.set_global()\n",
    "plt.contourf(...)\n",
    "\n",
    "ax.coastlines()\n",
    "ax.gridlines()\n",
    "\n",
    "color_ax = plt.axes([0.95, 0.3, 0.05, 0.35])\n",
    "plt.colorbar(cax=color_ax) \n",
    "plt.title('Age, Myr'); \n",
    "\n",
    "plt.show()"
   ]
  },
  {
   "cell_type": "markdown",
   "metadata": {},
   "source": [
    "What patterns do you observe? Where is the youngest seafloor in relation to the seafloor ridges we observed in our map of topography? Where is the oldest seafloor? "
   ]
  },
  {
   "cell_type": "markdown",
   "metadata": {},
   "source": [
    "_Write your answer here._"
   ]
  },
  {
   "cell_type": "markdown",
   "metadata": {},
   "source": [
    "Where did the older seafloor go?"
   ]
  },
  {
   "cell_type": "markdown",
   "metadata": {},
   "source": [
    "_Write your answer here._"
   ]
  },
  {
   "cell_type": "markdown",
   "metadata": {},
   "source": [
    "### Turn in this notebook\n",
    "\n",
    "Save your completed notebook as an html file and then <font color=goldenrod>**_upload it to bCourses._**</font>"
   ]
  }
 ],
 "metadata": {
  "kernelspec": {
   "display_name": "Python 3",
   "language": "python",
   "name": "python3"
  },
  "language_info": {
   "codemirror_mode": {
    "name": "ipython",
    "version": 3
   },
   "file_extension": ".py",
   "mimetype": "text/x-python",
   "name": "python",
   "nbconvert_exporter": "python",
   "pygments_lexer": "ipython3",
   "version": "3.6.7"
  }
 },
 "nbformat": 4,
 "nbformat_minor": 2
}
