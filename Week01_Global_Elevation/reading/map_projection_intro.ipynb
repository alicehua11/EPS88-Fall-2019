{
 "cells": [
  {
   "cell_type": "markdown",
   "metadata": {
    "slideshow": {
     "slide_type": "slide"
    }
   },
   "source": [
    "# Map projections, reference systems and other geospatial nomenclature\n",
    "\n",
    "This text is modified from a tutorial on working with geospatial data using the library ```cartopy``` that was presented at the 2018 Scipy conference by Phileas Elson:\n",
    "\n",
    "https://youtu.be/AmidIx6Jmn8\n",
    "\n",
    "https://github.com/SciTools/cartopy-tutorial"
   ]
  },
  {
   "cell_type": "markdown",
   "metadata": {
    "slideshow": {
     "slide_type": "subslide"
    }
   },
   "source": [
    "## Purpose\n",
    "\n",
    "The purpose of this document is to give you a bit of a background on map projections, reference systems and other geospatial terms. This will help you to:\n",
    " \n",
    " * choose map projections that are appropriate for plotting data\n",
    " * understand the terms used in the ```cartopy``` functions which is a function library we will use for plotting geospatial data"
   ]
  },
  {
   "cell_type": "markdown",
   "metadata": {
    "slideshow": {
     "slide_type": "slide"
    }
   },
   "source": [
    "# The world *is not* flat / 2D (sorry flat-Earthers)\n",
    "\n",
    "<img src=\"../appendix/maps/azim-eq.png\" style=\"max-height: 55vh; margin-left: auto; margin-right: auto;\">\n",
    "\n",
    "\"Azimuthal equidistant projections of the sphere ... have been co-opted as images of the flat Earth model, depicting Antarctica as an ice wall surrounding a disk-shaped Earth.\" ([Wikipedia: Flat Earth](https://en.wikipedia.org/wiki/Flat_Earth#Flat_Earth_Society))"
   ]
  },
  {
   "cell_type": "markdown",
   "metadata": {
    "slideshow": {
     "slide_type": "subslide"
    }
   },
   "source": [
    "## Most of our media for visualization *are* flat\n",
    "\n",
    "Our two most common media are flat:\n",
    "\n",
    " * Paper\n",
    " * Screen"
   ]
  },
  {
   "cell_type": "markdown",
   "metadata": {
    "slideshow": {
     "slide_type": "subslide"
    }
   },
   "source": [
    "### But there are *a few* that aren't...\n",
    "\n",
    "For example:\n",
    "\n",
    " * 3D rendering engine (the engine is then typically responsible for projecting the data to 2D for presentation to screen)\n",
    " * A Spherical Projector...\n"
   ]
  },
  {
   "cell_type": "markdown",
   "metadata": {
    "slideshow": {
     "slide_type": "slide"
    }
   },
   "source": [
    "## [Map] Projections: Taking us from spherical to flat\n",
    "\n",
    "A map projection (or more commonly refered to as just \"projection\") is:\n",
    "\n",
    "> a systematic transformation of the latitudes and longitudes of locations from the surface of a sphere or an ellipsoid into locations on a plane. [[Wikipedia: Map projection](https://en.wikipedia.org/wiki/Map_projection)]."
   ]
  },
  {
   "cell_type": "markdown",
   "metadata": {
    "slideshow": {
     "slide_type": "subslide"
    }
   },
   "source": [
    "## The major problem with map projections\n",
    "\n",
    "<img src=\"./orange_peel.jpg\" style=\"margin-left: auto; margin-right: auto;\">\n",
    "\n",
    " * The surface of a sphere is topologically different to a 2D surface, therefore we *have* to cut the sphere *somewhere*\n",
    " * A sphere's surface cannot be represented on a plane without distortion."
   ]
  },
  {
   "cell_type": "markdown",
   "metadata": {},
   "source": [
    "### Different projections\n",
    "\n",
    "We are going to use the function library `cartopy` to make maps. `cartopy`  supports a number of different map projections which enable the 3 dimensional surface of Earth to be shown in 2 dimensions on our computer screens. I (Nick Swanson-Hysell) like the Robinson projection -- you can see what the says about me by referring to this comic:\n",
    "\n",
    "<img src=\"./map_projections.png\" style=\"margin-left: auto; margin-right: auto;\">\n",
    "\n",
    "Check out the list of projections supported by `cartopy` https://scitools.org.uk/cartopy/docs/latest/crs/projections.html"
   ]
  },
  {
   "cell_type": "markdown",
   "metadata": {
    "slideshow": {
     "slide_type": "subslide"
    }
   },
   "source": [
    "### Common distortions of map projections\n",
    "\n",
    "Properties of maps that are often not preserved:\n",
    "\n",
    "* Area\n",
    "* Shape\n",
    "* Direction\n",
    "* Distance\n",
    "* Scale"
   ]
  },
  {
   "cell_type": "markdown",
   "metadata": {
    "slideshow": {
     "slide_type": "subslide"
    }
   },
   "source": [
    "> all ~~models~~ map projections are wrong, but some are useful - Phileas Elson (SciPy 2018)"
   ]
  },
  {
   "cell_type": "markdown",
   "metadata": {
    "slideshow": {
     "slide_type": "slide"
    }
   },
   "source": [
    "## Classifying projections\n",
    "\n",
    "Two common approaches:\n",
    "\n",
    " 1. By [2D] surface classification\n",
    " 2. By preserving a given property (metric)"
   ]
  },
  {
   "cell_type": "markdown",
   "metadata": {
    "slideshow": {
     "slide_type": "subslide"
    }
   },
   "source": [
    "### Projections by surface classification\n",
    "\n",
    "![](./projections.gif)\n",
    "\n",
    "Downside: Not all projections can be classified in this way -> Leads to big \"pseudo\" and \"other\" groups."
   ]
  },
  {
   "cell_type": "markdown",
   "metadata": {
    "slideshow": {
     "slide_type": "subslide"
    }
   },
   "source": [
    "## Surface classification: Cylindrical\n",
    "\n",
    "<img src=\"./cylindrical.png\" style=\"margin-left: auto; margin-right: auto; height: 40vh;\">\n",
    "<p style=\"font-size: xx-small; float: right;\">\n",
    "Source: http://ayresriverblog.com/2011/05/19/the-world-is-flat/\n",
    "</p>\n",
    "\n",
    "\n",
    "* Meridians and paralells are straight and perpendicular.\n"
   ]
  },
  {
   "cell_type": "markdown",
   "metadata": {
    "slideshow": {
     "slide_type": "subslide"
    }
   },
   "source": [
    "## Surface classification: Azimuthal\n",
    "\n",
    "<img src=\"./azimuthal.png\" style=\"margin-left: auto; margin-right: auto; height: 40vh;\">\n",
    "<p style=\"font-size: xx-small; float: right;\">\n",
    "Source: http://ayresriverblog.com/2011/05/19/the-world-is-flat/\n",
    "</p>\n",
    "\n",
    "\n",
    "* Parallels are complete circles\n",
    "* Great circles from central point are straight lines."
   ]
  },
  {
   "cell_type": "markdown",
   "metadata": {
    "slideshow": {
     "slide_type": "subslide"
    }
   },
   "source": [
    "## Surface classification: Conic\n",
    "<img src=\"./conic.png\" style=\"margin-left: auto; margin-right: auto; height: 40vh;\">\n",
    "<p style=\"font-size: xx-small; float: right;\">\n",
    "Source: http://ayresriverblog.com/2011/05/19/the-world-is-flat/\n",
    "</p>\n",
    "\n",
    "* Meridians are straight equally-spaced lines\n",
    "* Parallels are circular arcs."
   ]
  },
  {
   "cell_type": "markdown",
   "metadata": {
    "slideshow": {
     "slide_type": "slide"
    }
   },
   "source": [
    "### Projections by preserving metric\n",
    "\n",
    "Downside: Some projections can live in multiple groups."
   ]
  },
  {
   "cell_type": "markdown",
   "metadata": {
    "slideshow": {
     "slide_type": "subslide"
    }
   },
   "source": [
    "## Preserving metric: Conformal\n",
    "\n",
    "Also known as Orthomorphic.\n",
    "\n",
    "These projections preserve angles locally. Implying that circles anywhere on the Earth's surface map to circles of *varying size* in the projected space.\n",
    "\n",
    "Examples of conformal projections:\n",
    "\n",
    " * Mercator\n",
    " * Transverse Mercator\n",
    " * Stereographic\n",
    " * Lambert conformal conic"
   ]
  },
  {
   "cell_type": "markdown",
   "metadata": {
    "slideshow": {
     "slide_type": "subslide"
    }
   },
   "source": [
    "## Preserving metric: Conformal\n",
    "\n",
    "### Use in large scale maps (zoomed in)\n",
    "\n",
    "Often used to preserve shape to represent their physical counterpart.\n",
    "Seamless online maps like OSM/Google/Bing use a Mercator projection:\n",
    "\n",
    "> The first launch of [Google] Maps actually did not use Mercator, and streets in high latitude places like Stockholm did not meet at right angles on the map the way they do in reality. [[ref](https://productforums.google.com/d/msg/maps/A2ygEJ5eG-o/KbZr_B0h2hkJ)]\n",
    "\n",
    "The major drawback: it is difficult to compare lengths or areas"
   ]
  },
  {
   "cell_type": "markdown",
   "metadata": {
    "slideshow": {
     "slide_type": "subslide"
    }
   },
   "source": [
    "## Preserving metric: Conformal\n",
    "\n",
    "### Use in small scale maps (zoomed out)\n",
    "\n",
    "Maps reflecting directions, such as an [aero]nautical chart, or whose gradients are important,\n",
    "such as a weather maps, are often projected by conformal projections.\n",
    "\n",
    "Historically, many world maps are drawn by conformal projections, but the fact that the scale of the map\n",
    "varies by location makes it difficult to compare lengths or areas.\n",
    "Some have gone as far as calling the Mercator projection imperialistic and racist.\n"
   ]
  },
  {
   "cell_type": "markdown",
   "metadata": {
    "slideshow": {
     "slide_type": "subslide"
    }
   },
   "source": [
    "## Preseving metric: Equidistant\n",
    "\n",
    "No map projection can be universally equidistant.\n",
    "\n",
    "Some projections preserve distance from some standard point or line.\n",
    "\n",
    "Examples of projections that preserve distances along meridians (but not parallels):\n",
    "\n",
    " * Equirectangular / Plate Carree\n",
    " * Azimuthal equidistant\n"
   ]
  },
  {
   "cell_type": "markdown",
   "metadata": {
    "slideshow": {
     "slide_type": "subslide"
    }
   },
   "source": [
    "## Preseving metric: Equal-area\n",
    "\n",
    "\n",
    "Equal-area maps preserve area measure, generally distorting shapes in order to do so.\n",
    "\n",
    "Examples of equal area projections:\n",
    " * Albers conic\n",
    " * Eckert IV\n",
    " * Goode's homolosine\n",
    " * Lambert azimuthal equal-area\n",
    " * Lambert cylindrical equal-area\n",
    " * Sinusoidal"
   ]
  },
  {
   "cell_type": "markdown",
   "metadata": {
    "slideshow": {
     "slide_type": "subslide"
    }
   },
   "source": [
    "## Preseving metric: Compromise\n",
    "\n",
    "Rather than perfectly preserving any metric properties, compromise\n",
    "projections aim strike a balance between distortions.\n",
    "These compromises are often at the cost of polar distortions.\n",
    "\n",
    "Examples:\n",
    "    \n",
    " * Miller\n",
    " * Robinson\n",
    " * Winkel Tripel"
   ]
  },
  {
   "cell_type": "markdown",
   "metadata": {
    "slideshow": {
     "slide_type": "slide"
    }
   },
   "source": [
    "## Tissot's indicatrix\n",
    "\n",
    "A mathematical contrivance in order to characterize local distortions of a map projection. Multiple circles (on the sphere/ellipse) of constant area are drawn on the map. By analysing the distortions, we can identify (or more often rule-out) particular preserving metrics. You can see how dramatic the distortion is in an equirectangular projection. \n",
    "\n",
    "\n",
    "<img src=\"./tissot.platecarree.1000km.png\" style=\"margin-left: auto; margin-right: auto;\">\n"
   ]
  },
  {
   "cell_type": "markdown",
   "metadata": {},
   "source": [
    "## Now let's make your first map!"
   ]
  }
 ],
 "metadata": {
  "kernelspec": {
   "display_name": "Python 3",
   "language": "python",
   "name": "python3"
  },
  "language_info": {
   "codemirror_mode": {
    "name": "ipython",
    "version": 3
   },
   "file_extension": ".py",
   "mimetype": "text/x-python",
   "name": "python",
   "nbconvert_exporter": "python",
   "pygments_lexer": "ipython3",
   "version": "3.6.7"
  },
  "livereveal": {
   "auto_select": "none",
   "autolaunch": "true",
   "footer": " ",
   "header": "<script src='/files/static/theme/reveal.js'></script>",
   "start_slideshow_at": "selected"
  }
 },
 "nbformat": 4,
 "nbformat_minor": 2
}
