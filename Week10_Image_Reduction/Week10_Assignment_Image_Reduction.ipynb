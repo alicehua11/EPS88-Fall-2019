{
 "cells": [
  {
   "cell_type": "markdown",
   "metadata": {},
   "source": [
    "# Week 10 Image Reduction HW (30 pts)\n",
    "We will be reducing images of Neptune with a similar, but slightly different technique to the one we used to reduce Uranus images in class.\n",
    "\n",
    "For images of Neptune, we use a procedure called *stacking*, where three snapshots of Neptune are taken in different parts of the telescope's field of view, then stacked over each other to amplify signal and remove atmospheric and detector artifacts."
   ]
  },
  {
   "cell_type": "code",
   "execution_count": null,
   "metadata": {},
   "outputs": [],
   "source": [
    "from astropy.io import fits\n",
    "import matplotlib.pyplot as plt\n",
    "import numpy as np\n",
    "from scipy.signal import medfilt\n",
    "from scipy.interpolate import RectBivariateSpline\n",
    "import astroscrappy\n",
    "import image_registration"
   ]
  },
  {
   "cell_type": "markdown",
   "metadata": {},
   "source": [
    "# Part 1. Open relevant images and make the sky image (5 pts)"
   ]
  },
  {
   "cell_type": "code",
   "execution_count": null,
   "metadata": {},
   "outputs": [],
   "source": [
    "filt_name = 'h'\n",
    "flat_filt = 'h'\n",
    "target_name = 'Neptune'\n",
    "filepath = './data/'"
   ]
  },
  {
   "cell_type": "code",
   "execution_count": null,
   "metadata": {},
   "outputs": [],
   "source": [
    "neptune_1f = filepath + target_name + '_' + filt_name + '_1.fits'\n",
    "neptune_2f = filepath + target_name + '_' + filt_name + '_2.fits'\n",
    "neptune_3f = filepath + target_name + '_' + filt_name + '_3.fits'\n",
    "flatf = filepath + 'flat_' + filt_name + '.fits'"
   ]
  },
  {
   "cell_type": "code",
   "execution_count": null,
   "metadata": {},
   "outputs": [],
   "source": [
    "neptune_1 = fits.open(neptune_1f,ignore_warnings=True,ignore_missing_end=True)\n",
    "neptune_1_data = neptune_1[0].data\n",
    "neptune_2 = fits.open(neptune_2f,ignore_warnings=True,ignore_missing_end=True)\n",
    "neptune_2_data = neptune_2[0].data\n",
    "neptune_3 = fits.open(neptune_3f,ignore_warnings=True,ignore_missing_end=True)\n",
    "neptune_3_data = neptune_3[0].data"
   ]
  },
  {
   "cell_type": "markdown",
   "metadata": {},
   "source": [
    "I've included code to plot up the three frames nicely at each step, but keep in mind that if you don't use the variable names I use this code will not work."
   ]
  },
  {
   "cell_type": "code",
   "execution_count": null,
   "metadata": {},
   "outputs": [],
   "source": [
    "plt.figure(figsize=(15,10))\n",
    "plt.subplot(131)\n",
    "plt.imshow(neptune_1_data,origin='lower left',cmap='gnuplot')\n",
    "plt.title('First Neptune Image')\n",
    "plt.colorbar(fraction=0.046, pad=0.04)\n",
    "plt.subplot(132)\n",
    "plt.imshow(neptune_2_data,origin='lower left',cmap='gnuplot')\n",
    "plt.title('Second Neptune Image')\n",
    "plt.colorbar(fraction=0.046, pad=0.04)\n",
    "plt.subplot(133)\n",
    "plt.imshow(neptune_3_data,origin='lower left',cmap='gnuplot')\n",
    "plt.title('Third Neptune Image')\n",
    "cbar = plt.colorbar(fraction=0.046, pad=0.04)\n",
    "cbar.set_label('I/F')"
   ]
  },
  {
   "cell_type": "markdown",
   "metadata": {},
   "source": [
    "These images are taken in what is called a Box 3 Dither Pattern, where Neptune is placed in different parts of the field of view in order to correct for detector and atmospheric effects. In this method, the \"sky\" image is created by finding the median value at each pixel over all three images.\n",
    "\n",
    "To start we'll make an array called *frames*, which will store the image data for all three Neptune images."
   ]
  },
  {
   "cell_type": "code",
   "execution_count": null,
   "metadata": {},
   "outputs": [],
   "source": [
    "frames = np.asarray([neptune_1_data,neptune_2_data,neptune_3_data])\n",
    "frames.shape"
   ]
  },
  {
   "cell_type": "markdown",
   "metadata": {},
   "source": [
    "Write a function called *make_sky* which takes your *frames* array and returns a *sky* image. The sky image is an image comprised of the *median* value of each pixel across the three Neptune images. Use this function to generate an image called *sky_h*, which we'll use for sky subtraction (2.5 pts):"
   ]
  },
  {
   "cell_type": "code",
   "execution_count": null,
   "metadata": {},
   "outputs": [],
   "source": []
  },
  {
   "cell_type": "code",
   "execution_count": null,
   "metadata": {},
   "outputs": [],
   "source": [
    "plt.figure(figsize=(8,8))\n",
    "plt.imshow(sky_h,origin='lower left',cmap='gnuplot')\n",
    "plt.title('Sky Image')\n",
    "cbar = plt.colorbar(fraction=0.046, pad=0.04)\n",
    "cbar.set_label('I/F')"
   ]
  },
  {
   "cell_type": "markdown",
   "metadata": {},
   "source": [
    "Because the sky image is comprised of the median pixel value at each location, bad pixels across all three images will be accounted for, while true signal (such as brightness from Neptune) will not.\n",
    "\n",
    "Write a function called *subtract_sky* which takes your *frames* array and the *sky* image and subtracts the sky image from each frame. This function should return a *frames_skysub* array which is the same shape as your *frames* array. Use this function to subtract the sky (2.5 pts):"
   ]
  },
  {
   "cell_type": "code",
   "execution_count": null,
   "metadata": {},
   "outputs": [],
   "source": []
  },
  {
   "cell_type": "code",
   "execution_count": null,
   "metadata": {},
   "outputs": [],
   "source": [
    "plt.figure(figsize=(15,10))\n",
    "plt.subplot(131)\n",
    "plt.imshow(frames_skysub[0],origin='lower left',cmap='gnuplot')\n",
    "plt.title('First Neptune Image')\n",
    "plt.colorbar(fraction=0.046, pad=0.04)\n",
    "plt.subplot(132)\n",
    "plt.imshow(frames_skysub[1],origin='lower left',cmap='gnuplot')\n",
    "plt.title('Second Neptune Image')\n",
    "plt.colorbar(fraction=0.046, pad=0.04)\n",
    "plt.subplot(133)\n",
    "plt.imshow(frames_skysub[2],origin='lower left',cmap='gnuplot')\n",
    "plt.title('Third Neptune Image')\n",
    "cbar = plt.colorbar(fraction=0.046, pad=0.04)\n",
    "cbar.set_label('I/F')"
   ]
  },
  {
   "cell_type": "markdown",
   "metadata": {},
   "source": [
    "# Part 2. Flat fielding (2.5 pts)\n",
    "We will use the same flat images we used in class, and scale each frame accordingly."
   ]
  },
  {
   "cell_type": "code",
   "execution_count": null,
   "metadata": {},
   "outputs": [],
   "source": [
    "flat_fits = fits.open(flatf,ignore_warnings=True,ignore_missing_end=True)\n",
    "flat = flat_fits[0].data\n",
    "plt.figure(figsize=(8,8))\n",
    "plt.imshow(flat,origin='lower left',cmap='gnuplot')\n",
    "plt.colorbar(fraction=0.046, pad=0.04)\n",
    "plt.title('Flat Image')"
   ]
  },
  {
   "cell_type": "markdown",
   "metadata": {},
   "source": [
    "Write a function called *apply_flat* which scales each frame in your *frames_skysub* array by the *flat* image and returns *frames_flat*. Use this to apply the flat to each frame. (2.5 pts):"
   ]
  },
  {
   "cell_type": "code",
   "execution_count": null,
   "metadata": {},
   "outputs": [],
   "source": []
  },
  {
   "cell_type": "code",
   "execution_count": null,
   "metadata": {},
   "outputs": [],
   "source": [
    "plt.figure(figsize=(15,10))\n",
    "plt.subplot(131)\n",
    "plt.imshow(frames_flat[0],origin='lower left',cmap='gnuplot')\n",
    "plt.title('First Neptune Image')\n",
    "plt.colorbar(fraction=0.046, pad=0.04)\n",
    "plt.subplot(132)\n",
    "plt.imshow(frames_flat[1],origin='lower left',cmap='gnuplot')\n",
    "plt.title('Second Neptune Image')\n",
    "plt.colorbar(fraction=0.046, pad=0.04)\n",
    "plt.subplot(133)\n",
    "plt.imshow(frames_flat[2],origin='lower left',cmap='gnuplot')\n",
    "plt.title('Third Neptune Image')\n",
    "cbar = plt.colorbar(fraction=0.046, pad=0.04)\n",
    "cbar.set_label('I/F')"
   ]
  },
  {
   "cell_type": "markdown",
   "metadata": {},
   "source": [
    "# Part 3: Bad Pixel Map (2.5 pts)\n",
    "Assuming you made a bad pixel map during the in-class assignment (and that you are in the same directory as your in-class assignment), this should be as simple as opening 'badpx_map_h.fits' and creating a function very similar to the remove_bad_pixels function from the in-class assignment (with modifications to account for multiple frames).\n",
    "\n",
    "Write a function called *remove_bad_pixels* and use it to remove bad pixels from the three Neptune images (2.5 pts):"
   ]
  },
  {
   "cell_type": "code",
   "execution_count": null,
   "metadata": {},
   "outputs": [],
   "source": []
  },
  {
   "cell_type": "code",
   "execution_count": null,
   "metadata": {},
   "outputs": [],
   "source": [
    "plt.figure(figsize=(15,10))\n",
    "plt.subplot(131)\n",
    "plt.imshow(frames_rm_bp[0],origin='lower left',cmap='gnuplot')\n",
    "plt.title('First Neptune Image')\n",
    "plt.colorbar(fraction=0.046, pad=0.04)\n",
    "plt.subplot(132)\n",
    "plt.imshow(frames_rm_bp[1],origin='lower left',cmap='gnuplot')\n",
    "plt.title('Second Neptune Image')\n",
    "plt.colorbar(fraction=0.046, pad=0.04)\n",
    "plt.subplot(133)\n",
    "plt.imshow(frames_rm_bp[2],origin='lower left',cmap='gnuplot')\n",
    "plt.title('Third Neptune Image')\n",
    "cbar = plt.colorbar(fraction=0.046, pad=0.04)\n",
    "cbar.set_label('I/F')"
   ]
  },
  {
   "cell_type": "markdown",
   "metadata": {},
   "source": [
    "# Part 4. Remove negative pixels (2.5 pts)\n",
    "Replace the negative pixel values in your images with 0.0, again very similar to the *negs_to_zero* function we defined in class, but for multiple frames.\n",
    "\n",
    "Write a function called *negs_to_zero* and use it to remove the negative pixel values from your frames (2.5 pts):"
   ]
  },
  {
   "cell_type": "code",
   "execution_count": null,
   "metadata": {},
   "outputs": [],
   "source": []
  },
  {
   "cell_type": "code",
   "execution_count": null,
   "metadata": {},
   "outputs": [],
   "source": [
    "plt.figure(figsize=(15,10))\n",
    "plt.subplot(131)\n",
    "plt.imshow(frames_nonegs[0],origin='lower left',cmap='gnuplot')\n",
    "plt.title('First Neptune Image')\n",
    "plt.colorbar(fraction=0.046, pad=0.04)\n",
    "plt.subplot(132)\n",
    "plt.imshow(frames_nonegs[1],origin='lower left',cmap='gnuplot')\n",
    "plt.title('Second Neptune Image')\n",
    "plt.colorbar(fraction=0.046, pad=0.04)\n",
    "plt.subplot(133)\n",
    "plt.imshow(frames_nonegs[2],origin='lower left',cmap='gnuplot')\n",
    "plt.title('Third Neptune Image')\n",
    "cbar = plt.colorbar(fraction=0.046, pad=0.04)\n",
    "cbar.set_label('I/F')"
   ]
  },
  {
   "cell_type": "markdown",
   "metadata": {},
   "source": [
    "# Part 5. Cosmic ray removal (2.5 pts)\n",
    "Write a function called *remove_cosmics* which removes cosmic rays using the *astroscrappy.detect_cosmics()* function. Use this function to remove cosmic rays from your three Neptune frames (2.5 pts):"
   ]
  },
  {
   "cell_type": "code",
   "execution_count": null,
   "metadata": {},
   "outputs": [],
   "source": []
  },
  {
   "cell_type": "code",
   "execution_count": null,
   "metadata": {},
   "outputs": [],
   "source": [
    "plt.figure(figsize=(15,10))\n",
    "plt.subplot(131)\n",
    "plt.imshow(frames_rc[0],origin='lower left',cmap='gnuplot')\n",
    "plt.title('First Neptune Image')\n",
    "plt.colorbar(fraction=0.046, pad=0.04)\n",
    "plt.subplot(132)\n",
    "plt.imshow(frames_rc[1],origin='lower left',cmap='gnuplot')\n",
    "plt.title('Second Neptune Image')\n",
    "plt.colorbar(fraction=0.046, pad=0.04)\n",
    "plt.subplot(133)\n",
    "plt.imshow(frames_rc[2],origin='lower left',cmap='gnuplot')\n",
    "plt.title('Third Neptune Image')\n",
    "cbar = plt.colorbar(fraction=0.046, pad=0.04)\n",
    "cbar.set_label('I/F')"
   ]
  },
  {
   "cell_type": "markdown",
   "metadata": {},
   "source": [
    "# Part 6. Stack images using image_registration package (5 pts)\n",
    "This is an additional step for reducing images taken with the Box 3 Dither Pattern. We will use two functions from the *image_registration* package: *chi2_shift* and *shiftnd*:"
   ]
  },
  {
   "cell_type": "code",
   "execution_count": 29,
   "metadata": {},
   "outputs": [],
   "source": [
    "image_registration.chi2_shift?"
   ]
  },
  {
   "cell_type": "markdown",
   "metadata": {},
   "source": [
    "The *chi2_shift* function finds cross-correlation between two images using a *Discrete Fourier Transform upsampling* method and returns dx and dy, which are the offsets between the two images in x and y. This cross correlation method is described in detail the Cross Correlation Method video on bCourses."
   ]
  },
  {
   "cell_type": "code",
   "execution_count": 31,
   "metadata": {},
   "outputs": [],
   "source": [
    "image_registration.fft_tools.shiftnd?"
   ]
  },
  {
   "cell_type": "markdown",
   "metadata": {},
   "source": [
    "The *shiftnd* function takes an image and shifts it according to a dx and dy amount, filling empty pixels with 0.\n",
    "\n",
    "Using these two functions from image_registration, write your own function called *stack* which takes your *frames* array and stacks each frame on top of the first frame using cross correlation.\n",
    "\n",
    "You will need to use the dx, dy output from *chi2_shift* in order to shift your frame using *shiftnd*. Once you have your three frames shifted to have Neptune at the same location, you can stack them by creating an image comprised of the *median* values at each pixel for each shifted frame (similar to your *make_sky* function). Then, crop the image to a 512 X 512 square around Neptune (5 pts):"
   ]
  },
  {
   "cell_type": "code",
   "execution_count": null,
   "metadata": {},
   "outputs": [],
   "source": []
  },
  {
   "cell_type": "markdown",
   "metadata": {},
   "source": [
    "Plot your image to make sure stacking worked correctly."
   ]
  },
  {
   "cell_type": "code",
   "execution_count": null,
   "metadata": {},
   "outputs": [],
   "source": [
    "plt.figure(figsize=(8,8))\n",
    "plt.imshow(neptune_h,origin='lower left',cmap='gnuplot')\n",
    "plt.colorbar(fraction=0.046, pad=0.04)\n",
    "plt.title('Neptune H Final Image')"
   ]
  },
  {
   "cell_type": "markdown",
   "metadata": {},
   "source": [
    "Save your final Neptune H image as a fits file."
   ]
  },
  {
   "cell_type": "code",
   "execution_count": 47,
   "metadata": {},
   "outputs": [],
   "source": []
  },
  {
   "cell_type": "markdown",
   "metadata": {},
   "source": [
    "# Part 7. Reduce the Neptune Kp Image (5 pts)\n",
    "This should be relatively simple since you have already written the functions for each step. Keep in mind that you need to redefine the file paths so that you are opening the Kp fits files."
   ]
  },
  {
   "cell_type": "code",
   "execution_count": 53,
   "metadata": {},
   "outputs": [],
   "source": []
  },
  {
   "cell_type": "markdown",
   "metadata": {},
   "source": [
    "Plot both Neptune images to make sure they look OK."
   ]
  },
  {
   "cell_type": "code",
   "execution_count": null,
   "metadata": {},
   "outputs": [],
   "source": [
    "plt.figure(figsize=(15,10))\n",
    "plt.subplot(121)\n",
    "plt.imshow(neptune_kp,origin='lower left',cmap='gnuplot')\n",
    "plt.title('Kp band')\n",
    "plt.colorbar(fraction=0.046, pad=0.04)\n",
    "plt.subplot(122)\n",
    "plt.imshow(neptune_h,origin='lower left',cmap='gnuplot')\n",
    "plt.title('H band')\n",
    "cbar = plt.colorbar(fraction=0.046, pad=0.04)\n",
    "cbar.set_label('I/F')"
   ]
  },
  {
   "cell_type": "markdown",
   "metadata": {},
   "source": [
    "# Part 8. Find the pressure at three clouds on Neptune (5 pts)\n",
    "Using the cloud pressure equation we used in the in-class assignment (and the graph below), find the pressure of three cloud features on Neptune. Pressure is in bars.\n",
    "\n",
    "<img src=\"data/neptune_pressure_graph.png\" width = 400 align = 'left'>"
   ]
  },
  {
   "cell_type": "code",
   "execution_count": null,
   "metadata": {},
   "outputs": [],
   "source": []
  }
 ],
 "metadata": {
  "kernelspec": {
   "display_name": "Python 3",
   "language": "python",
   "name": "python3"
  },
  "language_info": {
   "codemirror_mode": {
    "name": "ipython",
    "version": 3
   },
   "file_extension": ".py",
   "mimetype": "text/x-python",
   "name": "python",
   "nbconvert_exporter": "python",
   "pygments_lexer": "ipython3",
   "version": "3.7.1"
  }
 },
 "nbformat": 4,
 "nbformat_minor": 2
}
