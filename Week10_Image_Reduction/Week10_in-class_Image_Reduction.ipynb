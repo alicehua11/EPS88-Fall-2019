{
 "cells": [
  {
   "cell_type": "code",
   "execution_count": 1,
   "metadata": {},
   "outputs": [
    {
     "data": {
      "image/jpeg": "[encoded data removed]",
      "text/html": [
       "\n",
       "        <iframe\n",
       "            width=\"600\"\n",
       "            height=\"500\"\n",
       "            src=\"https://www.youtube.com/embed/YVJIolNFzbM\"\n",
       "            frameborder=\"0\"\n",
       "            allowfullscreen\n",
       "        ></iframe>\n",
       "        "
      ],
      "text/plain": [
       "<IPython.lib.display.YouTubeVideo at 0x10bf1b550>"
      ]
     },
     "execution_count": 1,
     "metadata": {},
     "output_type": "execute_result"
    }
   ],
   "source": [
    "from IPython.display import YouTubeVideo\n",
    "\n",
    "# Youtube\n",
    "YouTubeVideo('YVJIolNFzbM',width='600',height='500')"
   ]
  },
  {
   "cell_type": "markdown",
   "metadata": {},
   "source": [
    "# Import relevant packages\n",
    "Note: this will not work if you are not running this notebook on your local computer with astroscrappy installed\n"
   ]
  },
  {
   "cell_type": "code",
   "execution_count": 1,
   "metadata": {},
   "outputs": [],
   "source": [
    "from astropy.io import fits\n",
    "import matplotlib.pyplot as plt\n",
    "import numpy as np\n",
    "from scipy.signal import medfilt\n",
    "from scipy.interpolate import RectBivariateSpline\n",
    "import astroscrappy"
   ]
  },
  {
   "cell_type": "markdown",
   "metadata": {},
   "source": [
    "# Week 10: Image Reduction\n",
    "Today we will be reducing images of Uranus taken by Keck Observatory's NIRC2 instrument in 2 filters (Kp, H). Images taken by ground-based telescopes must be calibrated for atmospheric effects, detector artifacts, and cosmic rays in order to be used for science."
   ]
  },
  {
   "cell_type": "markdown",
   "metadata": {},
   "source": [
    "Let's start by defining the filepath and variable names."
   ]
  },
  {
   "cell_type": "code",
   "execution_count": 2,
   "metadata": {},
   "outputs": [],
   "source": [
    "filt_name = 'kp'\n",
    "flat_filt = 'kp'\n",
    "target_name = 'Uranus'\n",
    "filepath = './data/'"
   ]
  },
  {
   "cell_type": "code",
   "execution_count": 3,
   "metadata": {},
   "outputs": [],
   "source": [
    "skyf = filepath + 'sky_' + filt_name + '.fits'\n",
    "uranusf = filepath + target_name + '_' + filt_name + '.fits'\n",
    "flatf = filepath + 'flat_' + filt_name + '.fits'"
   ]
  },
  {
   "cell_type": "markdown",
   "metadata": {},
   "source": [
    "Make sure your filepath looks ok"
   ]
  },
  {
   "cell_type": "code",
   "execution_count": 4,
   "metadata": {},
   "outputs": [
    {
     "name": "stdout",
     "output_type": "stream",
     "text": [
      "./data/Uranus_kp.fits\n"
     ]
    }
   ],
   "source": [
    "print(uranusf)"
   ]
  },
  {
   "cell_type": "markdown",
   "metadata": {},
   "source": [
    "# All the images which go into one final image:\n",
    "1. Target image (uranusf) : target in the center of the field of view (in this case, our target is Uranus)\n",
    "\n",
    "2. Sky image (skyf) : slightly off target, to account for sky artifacts\n",
    "\n",
    "3. Flat image (flatf) : telescope dome closed and lamp on, to account for detector artifacts"
   ]
  },
  {
   "cell_type": "markdown",
   "metadata": {},
   "source": [
    "# Fits files\n",
    "Fits files are the most commonly used data file format in astronomical observations."
   ]
  },
  {
   "cell_type": "code",
   "execution_count": null,
   "metadata": {},
   "outputs": [],
   "source": [
    "uranus = fits.open(uranusf,ignore_warnings=True,ignore_missing_end=True)"
   ]
  },
  {
   "cell_type": "markdown",
   "metadata": {},
   "source": [
    "All fits files have a header, which contains information about the data within the fits file, including the date and time of observation, instrument, filter, and many other technical details that may be useful in analysis of the image."
   ]
  },
  {
   "cell_type": "code",
   "execution_count": null,
   "metadata": {},
   "outputs": [],
   "source": [
    "uranus[0].header"
   ]
  },
  {
   "cell_type": "markdown",
   "metadata": {},
   "source": [
    "Extract image data from fits file using .data"
   ]
  },
  {
   "cell_type": "code",
   "execution_count": null,
   "metadata": {},
   "outputs": [],
   "source": [
    "uranus_data = uranus[0].data"
   ]
  },
  {
   "cell_type": "markdown",
   "metadata": {},
   "source": [
    "Do the same for your sky image"
   ]
  },
  {
   "cell_type": "code",
   "execution_count": null,
   "metadata": {},
   "outputs": [],
   "source": [
    "sky = fits.open(skyf,ignore_missing_end=True,ignore_warnings=True)\n",
    "sky_data = sky[0].data"
   ]
  },
  {
   "cell_type": "markdown",
   "metadata": {},
   "source": [
    "# Part 1. Apply sky image\n",
    "Let's plot up the Uranus and sky images to see what they look like"
   ]
  },
  {
   "cell_type": "code",
   "execution_count": null,
   "metadata": {},
   "outputs": [],
   "source": [
    "plt.figure(figsize=(15,10))\n",
    "plt.subplot(121)\n",
    "plt.imshow(uranus_data,origin='lower left',cmap='gnuplot')\n",
    "plt.title('Uranus Image')\n",
    "plt.colorbar(fraction=0.046, pad=0.04)\n",
    "plt.subplot(122)\n",
    "plt.imshow(sky_data,origin='lower left',cmap='gnuplot')\n",
    "plt.title('Sky Image')\n",
    "cbar = plt.colorbar(fraction=0.046, pad=0.04)\n",
    "cbar.set_label('I/F')"
   ]
  },
  {
   "cell_type": "markdown",
   "metadata": {},
   "source": [
    "They look horrible! This is because NIRC2 observes in the *thermal infrared* (1-5 micron) range, meaning it is essentially recording *heat*. As Keck is a ground-based telescope, Earth's atmosphere is between the detector and our target of interest. Our atmosphere is much warmer than Uranus! In order to remove the thermal detection of our atmosphere, we simply take one image of our target (Uranus), and one image off-target (sky) and simply subtract the sky image from the target image:"
   ]
  },
  {
   "cell_type": "code",
   "execution_count": null,
   "metadata": {},
   "outputs": [],
   "source": [
    "def subtract_sky(image,sky):\n",
    "    skysub = image - sky\n",
    "    return skysub"
   ]
  },
  {
   "cell_type": "code",
   "execution_count": null,
   "metadata": {},
   "outputs": [],
   "source": [
    "uranus_skysub = subtract_sky(uranus_data,sky_data)"
   ]
  },
  {
   "cell_type": "code",
   "execution_count": null,
   "metadata": {},
   "outputs": [],
   "source": [
    "plt.figure(figsize=(8,8))\n",
    "plt.imshow(uranus_skysub,origin='lower left',cmap='gnuplot')\n",
    "plt.title('After Sky Subtraction')\n",
    "cbar = plt.colorbar(fraction=0.046, pad=0.04)\n",
    "cbar.set_label('I/F')"
   ]
  },
  {
   "cell_type": "markdown",
   "metadata": {},
   "source": [
    "Better... but not really!"
   ]
  },
  {
   "cell_type": "markdown",
   "metadata": {},
   "source": [
    "# Part 2. Flat-fielding\n",
    "Let's take a look at the flat-field image."
   ]
  },
  {
   "cell_type": "code",
   "execution_count": null,
   "metadata": {},
   "outputs": [],
   "source": [
    "flat_fits = fits.open(flatf,ignore_warnings=True,ignore_missing_end=True)\n",
    "flat = flat_fits[0].data\n",
    "plt.figure(figsize=(8,8))\n",
    "plt.imshow(flat,origin='lower left',cmap='gnuplot')\n",
    "plt.colorbar(fraction=0.046, pad=0.04)\n",
    "plt.title('Flat Image')"
   ]
  },
  {
   "cell_type": "markdown",
   "metadata": {},
   "source": [
    "A 'flat' is an image taken with a constant light source (intensity = 1), so in an ideal world this would be an image where all pixels = 1. Clearly, we are not in an ideal world. In order to account for issues with the detector, we simply scale all pixels by the flat image in order to account for discrepancies in the detector."
   ]
  },
  {
   "cell_type": "code",
   "execution_count": null,
   "metadata": {},
   "outputs": [],
   "source": [
    "def apply_flat(image,flat):\n",
    "    with np.errstate(divide='ignore',invalid='ignore'):\n",
    "        apply_flat = image / flat\n",
    "    return apply_flat"
   ]
  },
  {
   "cell_type": "code",
   "execution_count": null,
   "metadata": {},
   "outputs": [],
   "source": [
    "uranus_apply_flat = apply_flat(uranus_skysub,flat)"
   ]
  },
  {
   "cell_type": "code",
   "execution_count": null,
   "metadata": {},
   "outputs": [],
   "source": [
    "plt.figure(figsize=(8,8))\n",
    "plt.imshow(uranus_apply_flat,origin='lower left',cmap='gnuplot')\n",
    "cbar = plt.colorbar(fraction=0.046, pad=0.04)\n",
    "cbar.set_label('I/F')\n",
    "plt.title('After Applying Flat Image')"
   ]
  },
  {
   "cell_type": "markdown",
   "metadata": {},
   "source": [
    "The image looks worse, but don't panic! Since we are dividing by the flat image where good pixels = 1 and bad pixels ~ 0, bad pixels will be greatly exaggerated."
   ]
  },
  {
   "cell_type": "markdown",
   "metadata": {},
   "source": [
    "# Part 3. Removing bad pixels\n",
    "We can identify and remove bad pixels by creating a \"bad pixel map\", which will note the location of all pixels whose value are exceptionally different from those of their neighbors."
   ]
  },
  {
   "cell_type": "code",
   "execution_count": null,
   "metadata": {},
   "outputs": [],
   "source": [
    "def make_badpx_map(flat, outfile, tol, blocksize):\n",
    "        '''Find pixels whose values are very far from the average of their neighbors\n",
    "        tol is the fraction different they can be\n",
    "        blocksize is the number of pixels in each direction over which to average'''\n",
    "        badpx_map = np.ones(flat.shape)\n",
    "        for i in range(0,flat.shape[0]+blocksize,blocksize):\n",
    "            for j in range(0,flat.shape[1]+blocksize,blocksize):\n",
    "                flatblock = flat[i:i+blocksize,j:j+blocksize]\n",
    "                mapblock = badpx_map[i:i+blocksize,j:j+blocksize]\n",
    "                med = np.median(flatblock)\n",
    "                \n",
    "                #if not within tolerance, set to NaN\n",
    "                mapblock[np.where(flatblock/med > 1 + tol)] = 0\n",
    "                mapblock[np.where(flatblock/med < 1 - tol)] = 0\n",
    "                badpx_map[i:i+blocksize,j:j+blocksize] = mapblock\n",
    "        fits.writeto(outfile,data=badpx_map, overwrite=True)"
   ]
  },
  {
   "cell_type": "markdown",
   "metadata": {},
   "source": [
    "This function creates a \"bad pixel map\" based on the flat field image, where good pixels = 1 and bad pixels = 0. \n",
    "\n",
    "Let's create a bad pixel map for our flat image, which will be saved as 'badpx_kp.fits'"
   ]
  },
  {
   "cell_type": "code",
   "execution_count": null,
   "metadata": {},
   "outputs": [],
   "source": [
    "make_badpx_map(flat=flat,outfile=filepath+'/badpx_'+flat_filt+'.fits',tol = 0.045, blocksize = 4)"
   ]
  },
  {
   "cell_type": "code",
   "execution_count": null,
   "metadata": {},
   "outputs": [],
   "source": [
    "badpx_fits = fits.open(filepath+'badpx_' + flat_filt + '.fits',ignore_missing_end=True)\n",
    "badpx_map = badpx_fits[0].data\n",
    "\n",
    "plt.figure(figsize=(8,8))\n",
    "plt.imshow(badpx_map,origin='lower left',cmap='gnuplot')\n",
    "plt.colorbar(fraction=0.046, pad=0.04)\n",
    "plt.title('Bad Pixel Map')"
   ]
  },
  {
   "cell_type": "markdown",
   "metadata": {},
   "source": [
    "Lots of bad pixels! We can remove them from our image by using a nearest-neighbor smoothing technique."
   ]
  },
  {
   "cell_type": "code",
   "execution_count": null,
   "metadata": {},
   "outputs": [],
   "source": [
    "def remove_bad_pixels(image,badpx_map):\n",
    "    bad_indices = np.where(badpx_map == 0)\n",
    "    smoothed = medfilt(image,kernel_size = 7)\n",
    "    image[bad_indices] = smoothed[bad_indices]\n",
    "    return image"
   ]
  },
  {
   "cell_type": "code",
   "execution_count": null,
   "metadata": {},
   "outputs": [],
   "source": [
    "uranus_rm_bp = remove_bad_pixels(uranus_apply_flat,badpx_map)"
   ]
  },
  {
   "cell_type": "markdown",
   "metadata": {},
   "source": [
    "For all pixels in the image where badpx = 0, the image pixel value will be replaced by the median value of the pixels surrounding it."
   ]
  },
  {
   "cell_type": "code",
   "execution_count": null,
   "metadata": {},
   "outputs": [],
   "source": [
    "plt.figure(figsize=(8,8))\n",
    "plt.imshow(uranus_rm_bp,origin='lower left',cmap='gnuplot')\n",
    "cbar = plt.colorbar(fraction=0.046, pad=0.04)\n",
    "cbar.set_label('I/F')\n",
    "plt.title('After Removing Bad Pixels')"
   ]
  },
  {
   "cell_type": "markdown",
   "metadata": {},
   "source": [
    "Did a pretty good job, but we know the few negative pixels which remain are not real. We can set these pixel values to 0."
   ]
  },
  {
   "cell_type": "markdown",
   "metadata": {},
   "source": [
    "# Part 4. Remove negative pixels"
   ]
  },
  {
   "cell_type": "code",
   "execution_count": null,
   "metadata": {},
   "outputs": [],
   "source": [
    "def negs_to_zero(image):\n",
    "    for i in range(image.shape[0]):\n",
    "        for j in range(image.shape[1]):\n",
    "            if image[i,j] < 0.0:\n",
    "                image[i,j] = 0.0\n",
    "    return image"
   ]
  },
  {
   "cell_type": "code",
   "execution_count": null,
   "metadata": {},
   "outputs": [],
   "source": [
    "uranus_nonegs = negs_to_zero(uranus_rm_bp)"
   ]
  },
  {
   "cell_type": "code",
   "execution_count": null,
   "metadata": {},
   "outputs": [],
   "source": [
    "plt.figure(figsize=(8,8))\n",
    "plt.imshow(uranus_nonegs,origin='lower left',cmap='gnuplot')\n",
    "cbar = plt.colorbar(fraction=0.046, pad=0.04)\n",
    "cbar.set_label('I/F')\n",
    "plt.title('After Removing Negative Pixels')"
   ]
  },
  {
   "cell_type": "markdown",
   "metadata": {},
   "source": [
    "OK, we're getting somewhere! One final step..."
   ]
  },
  {
   "cell_type": "markdown",
   "metadata": {},
   "source": [
    "# Part 5. Cosmic Ray Removal\n",
    "Those few remaining extremely bright pixels are actually real - they are cosmic rays. Cosmic rays are extremely high-energy protons originating from activity on our sun, supernovae explosions, and other high-energy intergalactic events.\n",
    "\n",
    "We'll use a Python package called *astroscrappy*, which identifies and removes cosmic rays quite nicely."
   ]
  },
  {
   "cell_type": "code",
   "execution_count": null,
   "metadata": {},
   "outputs": [],
   "source": [
    "def remove_cosmics(image):\n",
    "    crmask, cleanarr = astroscrappy.detect_cosmics(image, cleantype='medmask')\n",
    "    image = cleanarr\n",
    "    return image"
   ]
  },
  {
   "cell_type": "code",
   "execution_count": null,
   "metadata": {},
   "outputs": [],
   "source": [
    "uranus_kp = remove_cosmics(uranus_nonegs)"
   ]
  },
  {
   "cell_type": "code",
   "execution_count": null,
   "metadata": {},
   "outputs": [],
   "source": [
    "plt.figure(figsize=(8,8))\n",
    "plt.imshow(uranus_kp,origin='lower left',cmap='gnuplot')\n",
    "cbar = plt.colorbar(fraction=0.046, pad=0.04)\n",
    "cbar.set_label('I/F')\n",
    "plt.title('Uranus Kp-Band Final Image')"
   ]
  },
  {
   "cell_type": "markdown",
   "metadata": {},
   "source": [
    ":O Amazing! Let's save this image as a fits file."
   ]
  },
  {
   "cell_type": "code",
   "execution_count": null,
   "metadata": {},
   "outputs": [],
   "source": [
    "fits.writeto(filepath+'/uranus_'+flat_filt+'_final.fits',data=uranus_kp, overwrite=True)"
   ]
  },
  {
   "cell_type": "markdown",
   "metadata": {},
   "source": [
    "Great! We reduced an image. Let's reduce another image of Uranus, this time with a different filter.\n",
    "\n",
    "We've written functions for each step of the process, all you need to do is call the functions in order to reduce the H band image."
   ]
  },
  {
   "cell_type": "code",
   "execution_count": null,
   "metadata": {},
   "outputs": [],
   "source": [
    "filt_name = 'h'\n",
    "flat_filt = 'h'\n",
    "\n",
    "skyf = filepath + 'sky_' + filt_name + '.fits'\n",
    "uranusf = filepath + target_name + '_' + filt_name + '.fits'\n",
    "flatf = filepath + 'flat_' + filt_name + '.fits'"
   ]
  },
  {
   "cell_type": "code",
   "execution_count": null,
   "metadata": {},
   "outputs": [],
   "source": [
    "uranus = fits.open(uranusf,ignore_warnings=True,ignore_missing_end=True)\n",
    "uranus_data = uranus[0].data\n",
    "sky = fits.open(skyf,ignore_missing_end=True,ignore_warnings=True)\n",
    "sky_data = sky[0].data"
   ]
  },
  {
   "cell_type": "code",
   "execution_count": null,
   "metadata": {},
   "outputs": [],
   "source": [
    "plt.figure(figsize=(15,10))\n",
    "plt.subplot(121)\n",
    "plt.imshow(uranus_data,origin='lower left',cmap='gnuplot')\n",
    "plt.title('Uranus Image')\n",
    "plt.colorbar(fraction=0.046, pad=0.04)\n",
    "plt.subplot(122)\n",
    "plt.imshow(sky_data,origin='lower left',cmap='gnuplot')\n",
    "plt.title('Sky Image')\n",
    "cbar = plt.colorbar(fraction=0.046, pad=0.04)\n",
    "cbar.set_label('I/F')"
   ]
  },
  {
   "cell_type": "markdown",
   "metadata": {},
   "source": [
    "Already looks better than the last one we looked at! Now you just need to go through the same steps to reduce the H band image..."
   ]
  },
  {
   "cell_type": "markdown",
   "metadata": {},
   "source": [
    "# Part 1. Sky subtraction\n",
    "<font color=goldenrod>**_Code for you to write_**</font>\n",
    "\n",
    "Use the ```subtract_sky``` function to subtract ```sky_data``` from ```uranus_data```"
   ]
  },
  {
   "cell_type": "code",
   "execution_count": null,
   "metadata": {},
   "outputs": [],
   "source": [
    "uranus_skysub = ..."
   ]
  },
  {
   "cell_type": "markdown",
   "metadata": {},
   "source": [
    "Check to see that this worked"
   ]
  },
  {
   "cell_type": "code",
   "execution_count": null,
   "metadata": {},
   "outputs": [],
   "source": [
    "plt.figure(figsize=(8,8))\n",
    "plt.imshow(uranus_skysub,origin='lower left',cmap='gnuplot')\n",
    "plt.title('After Sky Subtraction')\n",
    "cbar = plt.colorbar(fraction=0.046, pad=0.04)\n",
    "cbar.set_label('I/F')"
   ]
  },
  {
   "cell_type": "markdown",
   "metadata": {},
   "source": [
    "# Part 2. Flat-fielding\n",
    "<font color=goldenrod>**_Code for you to write_**</font>\n",
    "\n",
    "Use the ```apply_flat``` function to scale the target image to the flat field image"
   ]
  },
  {
   "cell_type": "code",
   "execution_count": null,
   "metadata": {},
   "outputs": [],
   "source": [
    "uranus_apply_flat = ..."
   ]
  },
  {
   "cell_type": "code",
   "execution_count": null,
   "metadata": {},
   "outputs": [],
   "source": [
    "plt.figure(figsize=(8,8))\n",
    "plt.imshow(uranus_apply_flat,origin='lower left',cmap='gnuplot')\n",
    "cbar = plt.colorbar(fraction=0.046, pad=0.04)\n",
    "cbar.set_label('I/F')\n",
    "plt.title('After Applying Flat Image')"
   ]
  },
  {
   "cell_type": "markdown",
   "metadata": {},
   "source": [
    "# Part 3. Make and apply bad pixel map\n",
    "<font color=goldenrod>**_Code for you to write_**</font>\n",
    "\n",
    "Make a bad pixel map for the H band filter using the ```make_badpx_map``` function, which will output a .fits file called 'badpx_h.fits'"
   ]
  },
  {
   "cell_type": "code",
   "execution_count": null,
   "metadata": {},
   "outputs": [],
   "source": [
    "make_badpx_map(flat = ... ,outfile=filepath+'/badpx_'+flat_filt+'.fits',tol = 0.045, blocksize = 4)"
   ]
  },
  {
   "cell_type": "code",
   "execution_count": null,
   "metadata": {},
   "outputs": [],
   "source": [
    "badpx_fits = fits.open(filepath+'badpx_' + flat_filt + '.fits',ignore_missing_end=True)\n",
    "badpx_map = badpx_fits[0].data\n",
    "\n",
    "plt.figure(figsize=(8,8))\n",
    "plt.imshow(badpx_map,origin='lower left',cmap='gnuplot')\n",
    "plt.colorbar(fraction=0.046, pad=0.04)\n",
    "plt.title('Bad Pixel Map')"
   ]
  },
  {
   "cell_type": "markdown",
   "metadata": {},
   "source": [
    "<font color=goldenrod>**_Code for you to write_**</font>\n",
    "\n",
    "Remove bad pixels using the ```remove_bad_pixels``` function and the H band bad pixel map"
   ]
  },
  {
   "cell_type": "code",
   "execution_count": null,
   "metadata": {},
   "outputs": [],
   "source": [
    "uranus_rm_bp = ..."
   ]
  },
  {
   "cell_type": "code",
   "execution_count": null,
   "metadata": {},
   "outputs": [],
   "source": [
    "plt.figure(figsize=(8,8))\n",
    "plt.imshow(uranus_rm_bp,origin='lower left',cmap='gnuplot')\n",
    "cbar = plt.colorbar(fraction=0.046, pad=0.04)\n",
    "cbar.set_label('I/F')\n",
    "plt.title('After Removing Bad Pixels')"
   ]
  },
  {
   "cell_type": "markdown",
   "metadata": {},
   "source": [
    "# Part 4. Remove negative pixels\n",
    "<font color=goldenrod>**_Code for you to write_**</font>\n",
    "\n",
    "Remove negative pixels using the ```negs_to_zero``` function"
   ]
  },
  {
   "cell_type": "code",
   "execution_count": null,
   "metadata": {},
   "outputs": [],
   "source": [
    "uranus_nonegs = ..."
   ]
  },
  {
   "cell_type": "code",
   "execution_count": null,
   "metadata": {},
   "outputs": [],
   "source": [
    "plt.figure(figsize=(8,8))\n",
    "plt.imshow(uranus_nonegs,origin='lower left',cmap='gnuplot')\n",
    "cbar = plt.colorbar(fraction=0.046, pad=0.04)\n",
    "cbar.set_label('I/F')\n",
    "plt.title('After Removing Negative Pixels')"
   ]
  },
  {
   "cell_type": "markdown",
   "metadata": {},
   "source": [
    "# Part 5. Remove cosmic rays\n",
    "Final step!\n",
    "\n",
    "<font color=goldenrod>**_Code for you to write_**</font>\n"
   ]
  },
  {
   "cell_type": "code",
   "execution_count": null,
   "metadata": {},
   "outputs": [],
   "source": [
    "uranus_h = ..."
   ]
  },
  {
   "cell_type": "code",
   "execution_count": null,
   "metadata": {},
   "outputs": [],
   "source": [
    "plt.figure(figsize=(8,8))\n",
    "plt.imshow(uranus_h,origin='lower left',cmap='gnuplot')\n",
    "cbar = plt.colorbar(fraction=0.046, pad=0.04)\n",
    "cbar.set_label('I/F')\n",
    "plt.title('Uranus H-Band Final Image')"
   ]
  },
  {
   "cell_type": "markdown",
   "metadata": {},
   "source": [
    "Plot the images side by side to see how nice they look"
   ]
  },
  {
   "cell_type": "code",
   "execution_count": null,
   "metadata": {},
   "outputs": [],
   "source": [
    "plt.figure(figsize=(15,10))\n",
    "plt.subplot(121)\n",
    "plt.imshow(uranus_kp,origin='lower left',cmap='gnuplot')\n",
    "plt.title('Kp band')\n",
    "plt.colorbar(fraction=0.046, pad=0.04)\n",
    "plt.subplot(122)\n",
    "plt.imshow(uranus_h,origin='lower left',cmap='gnuplot')\n",
    "plt.title('H band')\n",
    "cbar = plt.colorbar(fraction=0.046, pad=0.04)\n",
    "cbar.set_label('I/F')"
   ]
  },
  {
   "cell_type": "markdown",
   "metadata": {},
   "source": [
    "Amazing!"
   ]
  },
  {
   "cell_type": "markdown",
   "metadata": {},
   "source": [
    "# Simple cloud pressure analysis\n",
    "We can use the ratio of the Kp/H band images to find the pressure of clouds in the atmosphere. Let's look at the one bright cloud that is obvious in both images."
   ]
  },
  {
   "cell_type": "code",
   "execution_count": null,
   "metadata": {},
   "outputs": [],
   "source": [
    "import matplotlib.patches as mpatches\n",
    "\n",
    "plt.figure(figsize=(15,10))\n",
    "plt.subplot(121)\n",
    "plt.imshow(uranus_kp,origin='lower left',cmap='gnuplot')\n",
    "ax = plt.gca()\n",
    "rect = mpatches.Rectangle(xy=(485,555),width=50,height=50,linewidth=2,edgecolor='r',facecolor='none')\n",
    "ax.add_patch(rect)\n",
    "plt.title('Kp band')\n",
    "plt.colorbar(fraction=0.046, pad=0.04)\n",
    "plt.subplot(122)\n",
    "plt.imshow(uranus_h,origin='lower left',cmap='gnuplot')\n",
    "ax = plt.gca()\n",
    "rect2 = mpatches.Rectangle(xy=(475,550),width=50,height=50,linewidth=2,edgecolor='r',facecolor='none')\n",
    "ax.add_patch(rect2)\n",
    "plt.title('H band')\n",
    "cbar = plt.colorbar(fraction=0.046, pad=0.04)\n",
    "cbar.set_label('I/F')"
   ]
  },
  {
   "cell_type": "markdown",
   "metadata": {},
   "source": [
    "We can find the pressure of the cloud top using the Kp/H ratio, which can be found by calculating the signal of the cloud in Kp minus the background Kp (noise) over the cloud in H minus the background in H:\n",
    "\n",
    "kp_h_ratio = (cloud_top_kp - background_kp)/(cloud_top_h - background_h)\n",
    "\n",
    "Because these images have not been deprojected, the cloud may not be at the same pixel in both images. Let's zoom in on the images and find a good portion to define as \"cloud area\" and \"background\" for each image."
   ]
  },
  {
   "cell_type": "code",
   "execution_count": null,
   "metadata": {},
   "outputs": [],
   "source": []
  },
  {
   "cell_type": "markdown",
   "metadata": {},
   "source": [
    "<font color=goldenrod>**_Code for you to write_**</font>\n",
    "\n",
    "Let's assume that the cloud is represented by the *maximum* value in the cloud area in each image, and the background noise is the *median* value of an area in the background sky. Write some code to define variables *cloud_top_kp* and *cloud_top_h* as the maximum pixel value in our selected cloud area, and *backgroud_kp* and *background_h* as the median pixel values in our selected background area."
   ]
  },
  {
   "cell_type": "code",
   "execution_count": null,
   "metadata": {},
   "outputs": [],
   "source": []
  },
  {
   "cell_type": "markdown",
   "metadata": {},
   "source": [
    "Calculate *kp_h_ratio* using the equation above."
   ]
  },
  {
   "cell_type": "code",
   "execution_count": null,
   "metadata": {},
   "outputs": [],
   "source": []
  },
  {
   "cell_type": "markdown",
   "metadata": {},
   "source": [
    "Use the following graph to estimate pressure of the bright cloud, given your calculated Kp/H ratio. Pressure is in bars.\n",
    "\n",
    "<img src=\"data/pressure_graph.png\" width = 400 align = 'left'>"
   ]
  },
  {
   "cell_type": "code",
   "execution_count": null,
   "metadata": {},
   "outputs": [],
   "source": []
  }
 ],
 "metadata": {
  "kernelspec": {
   "display_name": "Python 3",
   "language": "python",
   "name": "python3"
  },
  "language_info": {
   "codemirror_mode": {
    "name": "ipython",
    "version": 3
   },
   "file_extension": ".py",
   "mimetype": "text/x-python",
   "name": "python",
   "nbconvert_exporter": "python",
   "pygments_lexer": "ipython3",
   "version": "3.7.4"
  }
 },
 "nbformat": 4,
 "nbformat_minor": 4
}
