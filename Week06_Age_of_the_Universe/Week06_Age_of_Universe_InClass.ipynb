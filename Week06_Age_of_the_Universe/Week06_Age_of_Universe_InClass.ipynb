{
 "cells": [
  {
   "cell_type": "markdown",
   "metadata": {},
   "source": [
    "# Regression and the age of the universe"
   ]
  },
  {
   "cell_type": "markdown",
   "metadata": {},
   "source": [
    "## Import scientific python packages"
   ]
  },
  {
   "cell_type": "code",
   "execution_count": 1,
   "metadata": {},
   "outputs": [],
   "source": [
    "import numpy as np\n",
    "import matplotlib.pyplot as plt\n",
    "import pandas as pd"
   ]
  },
  {
   "cell_type": "markdown",
   "metadata": {},
   "source": [
    "## Bivariate data\n",
    "\n",
    "There are many examples in Earth and Planetary Science where we are interested in the dependence of one set of data on another (_bivariate data_). We have dealt with such scenarios thus far in considering the distance of the last geomagnetic reversal from the ridge crest to get spreading rate and the difference in arrival times of the $P$ and $S$ seismic waves is related to distance from the source to the receiver. \n",
    "\n",
    "Today we will be focused on methods that allow us to investigate potential associations and relationships between variables. And using a classic problem from astrophysics to do so. The inspiration for this exercise came from Lecture 16 of Lisa Tauxe's Python for Earth Science Students class and some of the material is modified from those materials (https://github.com/ltauxe/Python-for-Earth-Science-Students).\n",
    "\n",
    "### Age of the universe\n",
    "\n",
    "Today, we will focus on using the retreat velocity of galaxies and supernova as a function of their distance as our example data set. Such data underlies what has come to be known as \"Hubble's Law\" (same Hubble as for the Hubble telescope). Hubble published these results in 1929 [Hubble, E. P. (1929) Proc. Natl. Acad. Sci., 15, 168–173.]  At the time,  it was unclear whether the universe was static, expanding, or collapsing. Hubble hypothesized that if the universe were expanding, then everything in it would be moving away from us. The greater the distance between the Earth and the galaxy, the faster it must be moving.  So all that had to be done was to measure the distance and velocity of distant galaxies.  Easy-peasy - right?  \n",
    "\n",
    "To measure velocity, Hubble made use of the doppler shift. To understand how this works, recall that the pitch you hear as an ambulance approaches changes. During doppler shift, the ambulance's pitch changes from high (as it approaches) to low (as it recedes). The pitch changes  because the relative frequency of the sound waves changes. The frequency increases as the ambulance approaches, leading to a higher pitch, and then decreases as it moves away, resulting in a lower pitch.  \n",
    "\n",
    "Just in case you haven't had this life experience, let's listen to such a siren here:\n",
    "https://www.youtube.com/watch?v=imoxDcn2Sgo\n",
    "\n",
    "<img src=\"Images/Doppler_Effect.png\" width=600>\n",
    "\n",
    "The same principle applies to light, but rather than hear a change in frequency, we observe a shift in the wavelength (the color) emitted by the galaxy. If a star or galaxy is moving away from us, its absorption bands are shifted towards longer wavelengths - the red end of the visible spectrum. The faster the star or galaxy travels away from the observer, the greater the shift will be to the red:\n",
    "\n",
    "<img src=\"Images/dopp-redshift01.jpg\" width=300>\n",
    "\n",
    "So a star (or galaxy) moving away from us will have a red shift with the wavelength being spread out.\n",
    "\n",
    "<img src=\"Images/dopp-redshift02.jpg\" width=300>\n",
    "\n",
    "_[Figures from http://www.a-levelphysicstutor.com/wav-doppler.php](http://www.a-levelphysicstutor.com/wav-doppler.php)_\n",
    "\n",
    "Hubble measured the red shift of different galaxies and converted them to velocities. He then estimated the distance to these objects, which is harder to do (and he was pretty far off). \n",
    "\n",
    "Improving such data was a major motivation of the Hubble Space Telescope. Those data and continued improvement to approaches for estimating these distances and velocities and investigating additional types of celestial objects is a major focus of ongoing research. "
   ]
  },
  {
   "cell_type": "markdown",
   "metadata": {},
   "source": [
    "## Type 1a supernovae data\n",
    "\n",
    "Let's import data from Freedman et al. (2000) of the distance and retreat velocity of type 1a supernovae. These supernovae are described as follows in a review paper that Freedman wrote in 2010 (https://doi.org/10.1146/annurev-astro-082708-101829):\n",
    "\n",
    "> One of the most accurate means of measuring cosmological distances out into the Hubble flow\n",
    "utilizes the peak brightness of SNe Ia. The potential of supernovae for measuring distances was\n",
    "clear to early researchers (e.g., Baade, Minkowski, Zwicky), but it was the Hubble diagram of\n",
    "Kowal (1968) that set the modern course for this field, followed by decades of work by Sandage,\n",
    "Tammann, and collaborators (e.g., Sandage & Tammann 1982, 1990; see also the review by\n",
    "Branch 1998). Analysis by Pskovskii (1984), followed by Phillips (1993), established a correlation\n",
    "between the magnitude of a SN Ia at peak brightness and the rate at which it declines, thus\n",
    "allowing supernova luminosities to be “standardized.” This method currently probes farthest\n",
    "into the unperturbed Hubble flow, and it possesses very low intrinsic scatter:\n",
    "*Freedman and Madore (2010) who then go onto describe how using Cepheid variable stars (a type of pulsating star) has allowed for the distances to be better calibrated.*\n",
    "\n",
    "> SNe Ia result from the thermonuclear runaway explosions of stars.\n",
    "From observations alone, the presence of SNe Ia in elliptical galaxies suggests that they do not\n",
    "come from massive stars. Many details of the explosion are not yet well understood, but the\n",
    "generally accepted view is that of a carbon-oxygen, electron-degenerate, nearly-Chandrasekharmass\n",
    "white dwarf orbiting in a binary system with a close companion *Freedman and Madore (2010)*"
   ]
  },
  {
   "cell_type": "code",
   "execution_count": 2,
   "metadata": {},
   "outputs": [
    {
     "data": {
      "text/html": [
       "<div>\n",
       "<style scoped>\n",
       "    .dataframe tbody tr th:only-of-type {\n",
       "        vertical-align: middle;\n",
       "    }\n",
       "\n",
       "    .dataframe tbody tr th {\n",
       "        vertical-align: top;\n",
       "    }\n",
       "\n",
       "    .dataframe thead th {\n",
       "        text-align: right;\n",
       "    }\n",
       "</style>\n",
       "<table border=\"1\" class=\"dataframe\">\n",
       "  <thead>\n",
       "    <tr style=\"text-align: right;\">\n",
       "      <th></th>\n",
       "      <th>Supernova</th>\n",
       "      <th>VCMB</th>\n",
       "      <th>D(Mpc)</th>\n",
       "      <th>HCMB</th>\n",
       "      <th>σ</th>\n",
       "    </tr>\n",
       "  </thead>\n",
       "  <tbody>\n",
       "    <tr>\n",
       "      <td>31</td>\n",
       "      <td>SN1994T</td>\n",
       "      <td>10715</td>\n",
       "      <td>149.9</td>\n",
       "      <td>71.5</td>\n",
       "      <td>2.6</td>\n",
       "    </tr>\n",
       "    <tr>\n",
       "      <td>32</td>\n",
       "      <td>SN1995ac</td>\n",
       "      <td>14634</td>\n",
       "      <td>185.6</td>\n",
       "      <td>78.8</td>\n",
       "      <td>2.7</td>\n",
       "    </tr>\n",
       "    <tr>\n",
       "      <td>33</td>\n",
       "      <td>SN1995ak</td>\n",
       "      <td>6673</td>\n",
       "      <td>82.4</td>\n",
       "      <td>80.9</td>\n",
       "      <td>2.8</td>\n",
       "    </tr>\n",
       "    <tr>\n",
       "      <td>34</td>\n",
       "      <td>SN1996C</td>\n",
       "      <td>9024</td>\n",
       "      <td>136.0</td>\n",
       "      <td>66.3</td>\n",
       "      <td>2.5</td>\n",
       "    </tr>\n",
       "    <tr>\n",
       "      <td>35</td>\n",
       "      <td>SN1996bl</td>\n",
       "      <td>10446</td>\n",
       "      <td>132.7</td>\n",
       "      <td>78.7</td>\n",
       "      <td>2.7</td>\n",
       "    </tr>\n",
       "  </tbody>\n",
       "</table>\n",
       "</div>"
      ],
      "text/plain": [
       "   Supernova   VCMB  D(Mpc)  HCMB    σ\n",
       "31   SN1994T  10715   149.9  71.5  2.6\n",
       "32  SN1995ac  14634   185.6  78.8  2.7\n",
       "33  SN1995ak   6673    82.4  80.9  2.8\n",
       "34   SN1996C   9024   136.0  66.3  2.5\n",
       "35  SN1996bl  10446   132.7  78.7  2.7"
      ]
     },
     "execution_count": 2,
     "metadata": {},
     "output_type": "execute_result"
    }
   ],
   "source": [
    "Supernova_data = pd.read_csv('Data/Freedman2000_Supernova1a.csv')\n",
    "Supernova_data.tail()"
   ]
  },
  {
   "cell_type": "markdown",
   "metadata": {},
   "source": [
    "The ```VCMB``` column is velocity relative to the cosmic microwave background in km s$^{-1}$. The ```D(Mpc)``` column is the distance in Mpc which is the unit typically used for these measurements. 1 Mpc =  3.09 x 10$^{19}$ km\n",
    "\n",
    "Go ahead and double-click on this cell to see how I am getting labels that have the proper superscripts.\n",
    "\n",
    "To create nice labels with superscripts, we can use latex formatting, which can also be done in a markdown cell.  For a superscript, first we need to encase the text in dollar signs and then use the ^ symbol to make the following text a superscript. If there is more than one number in the superscript, you must enclose what you want as the superscript in curly braces.\n",
    "For example, to print $10^3$, we use ```$10^3$``` and for 'per second' (s$^{-1}$): ```s$^{-1}$```"
   ]
  },
  {
   "cell_type": "code",
   "execution_count": 3,
   "metadata": {},
   "outputs": [
    {
     "data": {
      "image/png": "[encoded data removed]",
      "text/plain": [
       "<Figure size 432x288 with 1 Axes>"
      ]
     },
     "metadata": {
      "needs_background": "light"
     },
     "output_type": "display_data"
    }
   ],
   "source": [
    "plt.scatter(Supernova_data['D(Mpc)'],Supernova_data['VCMB'],color='red',label='1A Supernovae data (Freedman et al. 2000)')\n",
    "plt.ylabel('Velocity (km s$^{-1}$)')\n",
    "plt.xlabel('Distance (Mpc)')\n",
    "plt.legend()\n",
    "plt.show()"
   ]
  },
  {
   "cell_type": "markdown",
   "metadata": {},
   "source": [
    "## Determining the slope of this line (the Hubble constant)\n",
    "\n",
    "We have distance on the x-axis inmegaparsecs and velocity on the y-axis in km/s. The slope of this line is the Hubble constant: \n",
    "\n",
    "$v = H_o d$\n",
    "\n",
    "where $v$ is velocity, $d$ is distance, and $H_o$ is the Hubble constant. \n",
    "\n",
    "This looks a lot like the equation for a line through the data ($y=mx + b$) where $m$ is the slope and $b$ is the y-intercept.  In this case, the y-intercept should be 0 or nearly so, and $m$ is $H_o$.\n",
    "\n",
    "So how do we find the slope?\n",
    "\n",
    "Here is where we can use linear regression to find the \"best fit\" line through the data. The approach is to minimize the sum of the squares of the distances (residuals) between the points and a line through them. In this illustration below, the residuals are the vertical distance between each data point and the line:\n",
    "\n",
    "<img src=\"Images/Residuals_for_Linear_Regression_Fit.png\" width=400>\n",
    "\n",
    "The approach in linear regression is to find the line that minimizes the squared value of these distances all added up. \n",
    "\n",
    "<img src=\"Images/RMSE1.png\" width=400>\n",
    "<img src=\"Images/RMSE2.png\" width=400>\n",
    "<img src=\"Images/RMSE3.png\" width=400>\n",
    "<img src=\"Images/RMSE4.png\" width=400>\n",
    "\n",
    "We determine the best-fit line through this least squares approach using the ```np.polyfit()``` function. A straight line is a first degree polynomial (*note that the function can fit higher order polynomials as well*)."
   ]
  },
  {
   "cell_type": "code",
   "execution_count": 4,
   "metadata": {},
   "outputs": [
    {
     "data": {
      "text/plain": [
       "\u001b[0;31mSignature:\u001b[0m \u001b[0mnp\u001b[0m\u001b[0;34m.\u001b[0m\u001b[0mpolyfit\u001b[0m\u001b[0;34m(\u001b[0m\u001b[0mx\u001b[0m\u001b[0;34m,\u001b[0m \u001b[0my\u001b[0m\u001b[0;34m,\u001b[0m \u001b[0mdeg\u001b[0m\u001b[0;34m,\u001b[0m \u001b[0mrcond\u001b[0m\u001b[0;34m=\u001b[0m\u001b[0;32mNone\u001b[0m\u001b[0;34m,\u001b[0m \u001b[0mfull\u001b[0m\u001b[0;34m=\u001b[0m\u001b[0;32mFalse\u001b[0m\u001b[0;34m,\u001b[0m \u001b[0mw\u001b[0m\u001b[0;34m=\u001b[0m\u001b[0;32mNone\u001b[0m\u001b[0;34m,\u001b[0m \u001b[0mcov\u001b[0m\u001b[0;34m=\u001b[0m\u001b[0;32mFalse\u001b[0m\u001b[0;34m)\u001b[0m\u001b[0;34m\u001b[0m\u001b[0;34m\u001b[0m\u001b[0m\n",
       "\u001b[0;31mDocstring:\u001b[0m\n",
       "Least squares polynomial fit.\n",
       "\n",
       "Fit a polynomial ``p(x) = p[0] * x**deg + ... + p[deg]`` of degree `deg`\n",
       "to points `(x, y)`. Returns a vector of coefficients `p` that minimises\n",
       "the squared error in the order `deg`, `deg-1`, ... `0`.\n",
       "\n",
       "The `Polynomial.fit <numpy.polynomial.polynomial.Polynomial.fit>` class\n",
       "method is recommended for new code as it is more stable numerically. See\n",
       "the documentation of the method for more information.\n",
       "\n",
       "Parameters\n",
       "----------\n",
       "x : array_like, shape (M,)\n",
       "    x-coordinates of the M sample points ``(x[i], y[i])``.\n",
       "y : array_like, shape (M,) or (M, K)\n",
       "    y-coordinates of the sample points. Several data sets of sample\n",
       "    points sharing the same x-coordinates can be fitted at once by\n",
       "    passing in a 2D-array that contains one dataset per column.\n",
       "deg : int\n",
       "    Degree of the fitting polynomial\n",
       "rcond : float, optional\n",
       "    Relative condition number of the fit. Singular values smaller than\n",
       "    this relative to the largest singular value will be ignored. The\n",
       "    default value is len(x)*eps, where eps is the relative precision of\n",
       "    the float type, about 2e-16 in most cases.\n",
       "full : bool, optional\n",
       "    Switch determining nature of return value. When it is False (the\n",
       "    default) just the coefficients are returned, when True diagnostic\n",
       "    information from the singular value decomposition is also returned.\n",
       "w : array_like, shape (M,), optional\n",
       "    Weights to apply to the y-coordinates of the sample points. For\n",
       "    gaussian uncertainties, use 1/sigma (not 1/sigma**2).\n",
       "cov : bool or str, optional\n",
       "    If given and not `False`, return not just the estimate but also its\n",
       "    covariance matrix. By default, the covariance are scaled by\n",
       "    chi2/sqrt(N-dof), i.e., the weights are presumed to be unreliable\n",
       "    except in a relative sense and everything is scaled such that the\n",
       "    reduced chi2 is unity. This scaling is omitted if ``cov='unscaled'``,\n",
       "    as is relevant for the case that the weights are 1/sigma**2, with\n",
       "    sigma known to be a reliable estimate of the uncertainty.\n",
       "\n",
       "Returns\n",
       "-------\n",
       "p : ndarray, shape (deg + 1,) or (deg + 1, K)\n",
       "    Polynomial coefficients, highest power first.  If `y` was 2-D, the\n",
       "    coefficients for `k`-th data set are in ``p[:,k]``.\n",
       "\n",
       "residuals, rank, singular_values, rcond\n",
       "    Present only if `full` = True.  Residuals of the least-squares fit,\n",
       "    the effective rank of the scaled Vandermonde coefficient matrix,\n",
       "    its singular values, and the specified value of `rcond`. For more\n",
       "    details, see `linalg.lstsq`.\n",
       "\n",
       "V : ndarray, shape (M,M) or (M,M,K)\n",
       "    Present only if `full` = False and `cov`=True.  The covariance\n",
       "    matrix of the polynomial coefficient estimates.  The diagonal of\n",
       "    this matrix are the variance estimates for each coefficient.  If y\n",
       "    is a 2-D array, then the covariance matrix for the `k`-th data set\n",
       "    are in ``V[:,:,k]``\n",
       "\n",
       "\n",
       "Warns\n",
       "-----\n",
       "RankWarning\n",
       "    The rank of the coefficient matrix in the least-squares fit is\n",
       "    deficient. The warning is only raised if `full` = False.\n",
       "\n",
       "    The warnings can be turned off by\n",
       "\n",
       "    >>> import warnings\n",
       "    >>> warnings.simplefilter('ignore', np.RankWarning)\n",
       "\n",
       "See Also\n",
       "--------\n",
       "polyval : Compute polynomial values.\n",
       "linalg.lstsq : Computes a least-squares fit.\n",
       "scipy.interpolate.UnivariateSpline : Computes spline fits.\n",
       "\n",
       "Notes\n",
       "-----\n",
       "The solution minimizes the squared error\n",
       "\n",
       ".. math ::\n",
       "    E = \\sum_{j=0}^k |p(x_j) - y_j|^2\n",
       "\n",
       "in the equations::\n",
       "\n",
       "    x[0]**n * p[0] + ... + x[0] * p[n-1] + p[n] = y[0]\n",
       "    x[1]**n * p[0] + ... + x[1] * p[n-1] + p[n] = y[1]\n",
       "    ...\n",
       "    x[k]**n * p[0] + ... + x[k] * p[n-1] + p[n] = y[k]\n",
       "\n",
       "The coefficient matrix of the coefficients `p` is a Vandermonde matrix.\n",
       "\n",
       "`polyfit` issues a `RankWarning` when the least-squares fit is badly\n",
       "conditioned. This implies that the best fit is not well-defined due\n",
       "to numerical error. The results may be improved by lowering the polynomial\n",
       "degree or by replacing `x` by `x` - `x`.mean(). The `rcond` parameter\n",
       "can also be set to a value smaller than its default, but the resulting\n",
       "fit may be spurious: including contributions from the small singular\n",
       "values can add numerical noise to the result.\n",
       "\n",
       "Note that fitting polynomial coefficients is inherently badly conditioned\n",
       "when the degree of the polynomial is large or the interval of sample points\n",
       "is badly centered. The quality of the fit should always be checked in these\n",
       "cases. When polynomial fits are not satisfactory, splines may be a good\n",
       "alternative.\n",
       "\n",
       "References\n",
       "----------\n",
       ".. [1] Wikipedia, \"Curve fitting\",\n",
       "       https://en.wikipedia.org/wiki/Curve_fitting\n",
       ".. [2] Wikipedia, \"Polynomial interpolation\",\n",
       "       https://en.wikipedia.org/wiki/Polynomial_interpolation\n",
       "\n",
       "Examples\n",
       "--------\n",
       ">>> import warnings\n",
       ">>> x = np.array([0.0, 1.0, 2.0, 3.0,  4.0,  5.0])\n",
       ">>> y = np.array([0.0, 0.8, 0.9, 0.1, -0.8, -1.0])\n",
       ">>> z = np.polyfit(x, y, 3)\n",
       ">>> z\n",
       "array([ 0.08703704, -0.81349206,  1.69312169, -0.03968254]) # may vary\n",
       "\n",
       "It is convenient to use `poly1d` objects for dealing with polynomials:\n",
       "\n",
       ">>> p = np.poly1d(z)\n",
       ">>> p(0.5)\n",
       "0.6143849206349179 # may vary\n",
       ">>> p(3.5)\n",
       "-0.34732142857143039 # may vary\n",
       ">>> p(10)\n",
       "22.579365079365115 # may vary\n",
       "\n",
       "High-order polynomials may oscillate wildly:\n",
       "\n",
       ">>> with warnings.catch_warnings():\n",
       "...     warnings.simplefilter('ignore', np.RankWarning)\n",
       "...     p30 = np.poly1d(np.polyfit(x, y, 30))\n",
       "...\n",
       ">>> p30(4)\n",
       "-0.80000000000000204 # may vary\n",
       ">>> p30(5)\n",
       "-0.99999999999999445 # may vary\n",
       ">>> p30(4.5)\n",
       "-0.10547061179440398 # may vary\n",
       "\n",
       "Illustration:\n",
       "\n",
       ">>> import matplotlib.pyplot as plt\n",
       ">>> xp = np.linspace(-2, 6, 100)\n",
       ">>> _ = plt.plot(x, y, '.', xp, p(xp), '-', xp, p30(xp), '--')\n",
       ">>> plt.ylim(-2,2)\n",
       "(-2, 2)\n",
       ">>> plt.show()\n",
       "\u001b[0;31mFile:\u001b[0m      /anaconda3/lib/python3.6/site-packages/numpy/lib/polynomial.py\n",
       "\u001b[0;31mType:\u001b[0m      function\n"
      ]
     },
     "metadata": {},
     "output_type": "display_data"
    }
   ],
   "source": [
    "np.polyfit?"
   ]
  },
  {
   "cell_type": "markdown",
   "metadata": {},
   "source": [
    "## Fitting a line with `np.polyfit()`\n",
    "\n",
    "`np.polyfit()` can be used to calculate best fit lines (setting the degree (```deg```) to 1), or higher order curves (setting degree to 2 or higher) returning the slope and the intercept. Let's put it to use:"
   ]
  },
  {
   "cell_type": "code",
   "execution_count": 5,
   "metadata": {},
   "outputs": [
    {
     "data": {
      "text/plain": [
       "array([ 67.5361857 , 711.79566787])"
      ]
     },
     "execution_count": 5,
     "metadata": {},
     "output_type": "execute_result"
    }
   ],
   "source": [
    "np.polyfit(Supernova_data['D(Mpc)'],Supernova_data['VCMB'],1)"
   ]
  },
  {
   "cell_type": "markdown",
   "metadata": {},
   "source": [
    "So $H_o$, the slope of the best-fit line, is 67.5 (in the odd units of kilometers per second per megaparsec).  \n",
    "\n",
    "Let's plot the best fit line on our graph.  \n",
    "\n",
    "We can assign the best fitting slope and y-intercept from **np.polyfit( )** to a variable (**m_b**)."
   ]
  },
  {
   "cell_type": "code",
   "execution_count": 6,
   "metadata": {},
   "outputs": [
    {
     "name": "stdout",
     "output_type": "stream",
     "text": [
      "[ 67.5361857  711.79566787]\n"
     ]
    }
   ],
   "source": [
    "m_b= np.polyfit(Supernova_data['D(Mpc)'],Supernova_data['VCMB'],1)\n",
    "print(m_b) #see if that worked"
   ]
  },
  {
   "cell_type": "markdown",
   "metadata": {},
   "source": [
    "**m_b**  seems to be an array of coefficients, where the first is the slope and the second is the y-intercept.  \n",
    "\n",
    "We can now use the function `np.polyval()` which will calculate new y values using the model of a linear fit. We can feed **m_b** into **np.polyval( )**, along with our x array to get a new set of y values which are the y values for the best-fit linear model. Then we can plot the model data as a black line along with the original data. "
   ]
  },
  {
   "cell_type": "code",
   "execution_count": 7,
   "metadata": {},
   "outputs": [
    {
     "data": {
      "text/plain": [
       "array([ 9808.91988211, 11443.29557612, 14124.48214855, 16846.19043239,\n",
       "        8620.28301373,  4493.82206726, 13131.70021871,  8917.44223082,\n",
       "       19257.23226199,  7607.24022818,  4628.89443866, 32251.19439131,\n",
       "       18419.78355927,  6695.50172118, 10936.77418335, 14387.87327279,\n",
       "       16643.58187528, 12652.19330021,  5972.86453416, 21614.24514304,\n",
       "       27152.21237071, 19628.68128336, 21202.27441025, 16657.08911242,\n",
       "       15259.09006836,  8795.87709656, 14374.36603565,  5560.89380137,\n",
       "        7242.54482538,  9342.92020075,  5223.21287285, 10835.4699048 ,\n",
       "       13246.5117344 ,  6276.77736982,  9896.71692352,  9673.8475107 ])"
      ]
     },
     "execution_count": 7,
     "metadata": {},
     "output_type": "execute_result"
    }
   ],
   "source": [
    "model_y_values = np.polyval(m_b,Supernova_data['D(Mpc)'])\n",
    "model_y_values"
   ]
  },
  {
   "cell_type": "code",
   "execution_count": 8,
   "metadata": {},
   "outputs": [
    {
     "data": {
      "image/png": "[encoded data removed]",
      "text/plain": [
       "<Figure size 432x288 with 1 Axes>"
      ]
     },
     "metadata": {
      "needs_background": "light"
     },
     "output_type": "display_data"
    }
   ],
   "source": [
    "plt.scatter(Supernova_data['D(Mpc)'],Supernova_data['VCMB'],\n",
    "            color='red',label='1A Supernovae data (Freedman et al. 2000)')\n",
    "plt.scatter(Supernova_data['D(Mpc)'],model_y_values,\n",
    "         color='black',marker='s',label='best fit to 1A Supernovae data')\n",
    "plt.ylabel('Velocity (km s$^{-1}$)')\n",
    "plt.xlabel('Distance (Mpc)')\n",
    "plt.legend()\n",
    "plt.show()"
   ]
  },
  {
   "cell_type": "code",
   "execution_count": 9,
   "metadata": {},
   "outputs": [
    {
     "data": {
      "image/png": "[encoded data removed]",
      "text/plain": [
       "<Figure size 432x288 with 1 Axes>"
      ]
     },
     "metadata": {
      "needs_background": "light"
     },
     "output_type": "display_data"
    }
   ],
   "source": [
    "plt.scatter(Supernova_data['D(Mpc)'],Supernova_data['VCMB'],\n",
    "            color='red',label='1A Supernovae data (Freedman et al. 2000)')\n",
    "plt.plot(Supernova_data['D(Mpc)'],model_y_values,\n",
    "         color='black',label='best fit to 1A Supernovae data')\n",
    "plt.ylabel('Velocity (km s$^{-1}$)')\n",
    "plt.xlabel('Distance (Mpc)')\n",
    "plt.legend()\n",
    "plt.show()"
   ]
  },
  {
   "cell_type": "markdown",
   "metadata": {},
   "source": [
    "## Using this linear model for prediction\n",
    "\n",
    "What would we predict that the velocity would be for a supernova that happened to be 350 Mpc?\n",
    "\n",
    "<font color=goldenrod>**_Code for you to write_**</font>\n",
    "\n",
    "**Use the ```np.polyval()``` function to come up with what the linear model predicts the velocity would be?**"
   ]
  },
  {
   "cell_type": "code",
   "execution_count": null,
   "metadata": {},
   "outputs": [],
   "source": []
  },
  {
   "cell_type": "markdown",
   "metadata": {},
   "source": [
    "## Evaluating model fit\n",
    "\n",
    "We'd also like to know who well this model fits our data (i.e. how correlated the data are). We'll use the $R^{2}$ correlation coefficient for this. $R^{2}$ is zero for uncorrelated data, and 1 for perfectly linear data (so no misfit between the model line and data). We'll use the scipy function `stats.linregress` to compute $R^{2}$. "
   ]
  },
  {
   "cell_type": "code",
   "execution_count": 11,
   "metadata": {},
   "outputs": [],
   "source": [
    "from scipy.stats import stats"
   ]
  },
  {
   "cell_type": "markdown",
   "metadata": {},
   "source": [
    "And use it, to get what is normally called the $R^2$ value, which when 1. represents perfect agreement.\n",
    "\n",
    "<img src=\"Images/Correlation_examples.svg\" width=900>\n",
    "> Pearson correlation coefficient between several example X,Y sets. Source: https://en.wikipedia.org/wiki/Correlation_and_dependence"
   ]
  },
  {
   "cell_type": "code",
   "execution_count": 12,
   "metadata": {},
   "outputs": [
    {
     "data": {
      "text/plain": [
       "LinregressResult(slope=67.53618570328341, intercept=711.7956678730334, rvalue=0.9890793847199015, pvalue=7.324802146588665e-30, stderr=1.72589961736366)"
      ]
     },
     "execution_count": 12,
     "metadata": {},
     "output_type": "execute_result"
    }
   ],
   "source": [
    "stats.linregress(Supernova_data['D(Mpc)'],Supernova_data['VCMB'])"
   ]
  },
  {
   "cell_type": "code",
   "execution_count": 13,
   "metadata": {},
   "outputs": [],
   "source": [
    "slope, intercept, rvalue, pvalue, stderr = stats.linregress(Supernova_data['D(Mpc)'],Supernova_data['VCMB'])"
   ]
  },
  {
   "cell_type": "code",
   "execution_count": 14,
   "metadata": {},
   "outputs": [
    {
     "data": {
      "text/plain": [
       "0.978278029277899"
      ]
     },
     "execution_count": 14,
     "metadata": {},
     "output_type": "execute_result"
    }
   ],
   "source": [
    "rvalue**2"
   ]
  },
  {
   "cell_type": "markdown",
   "metadata": {},
   "source": [
    "Not a bad fit!  We can have confidence that there is a strong correlation between distance and velocity. The universe is expanding.   "
   ]
  },
  {
   "cell_type": "markdown",
   "metadata": {},
   "source": [
    "## Evaluting the fit through plotting residuals\n",
    "\n",
    "To see how well the regression performs, the data scientist must measure how far off the estimates are from the actual values. These differences are called *residuals*.\n",
    "\n",
    "$$\n",
    "\\mbox{residual} ~=~ \\mbox{observed value} ~-~ \\mbox{regression estimate}\n",
    "$$\n",
    "\n",
    "A residual is what's left over – the residue – after estimation. \n",
    "\n",
    "Residuals are the vertical distances of the points from the regression line. There is one residual for each point in the scatter plot. The residual is the difference between the observed value of $y$ and the fitted value of $y$, so for the point $(x, y)$,\n",
    "\n",
    "$$\n",
    "\\mbox{residual} ~~ = ~~ y ~-~\n",
    "\\mbox{fitted value of }y\n",
    "~~ = ~~ y ~-~\n",
    "\\mbox{height of regression line at }x\n",
    "$$"
   ]
  },
  {
   "cell_type": "code",
   "execution_count": 15,
   "metadata": {},
   "outputs": [],
   "source": [
    "residual = Supernova_data['VCMB']-model_y_values"
   ]
  },
  {
   "cell_type": "code",
   "execution_count": 16,
   "metadata": {},
   "outputs": [
    {
     "data": {
      "image/png": "[encoded data removed]",
      "text/plain": [
       "<Figure size 432x288 with 1 Axes>"
      ]
     },
     "metadata": {
      "needs_background": "light"
     },
     "output_type": "display_data"
    }
   ],
   "source": [
    "plt.scatter(Supernova_data['D(Mpc)'],residual,color='red')\n",
    "plt.hlines(0,xmin=0,xmax=500)\n",
    "plt.xlim(0,500)\n",
    "plt.show()"
   ]
  },
  {
   "cell_type": "markdown",
   "metadata": {},
   "source": [
    "**The residual plot of a good regression shows no pattern. The residuals look about the same, above and below the horizontal line at 0, across the range of the predictor variable.**"
   ]
  },
  {
   "cell_type": "markdown",
   "metadata": {},
   "source": [
    "## Estimating the age of the universe\n",
    "\n",
    "To calculate the age of the universe, we can use Hubble's law:  \n",
    "\n",
    "We had $v=H_o d$ as Hubble's law and we know that distance = velocity x time, or,  $d=vt$.  So, if we divide both sides by $v$ and  we get: \n",
    "\n",
    "1=$H_o$t. \n",
    "\n",
    "Solving for $t$ (the age of the universe), we get \n",
    "\n",
    "$t=1/H_o$ [in some weird units.]"
   ]
  },
  {
   "cell_type": "code",
   "execution_count": 17,
   "metadata": {},
   "outputs": [
    {
     "name": "stdout",
     "output_type": "stream",
     "text": [
      "0.014806877077622448\n"
     ]
    }
   ],
   "source": [
    "t = 1.0/slope\n",
    "print(t)"
   ]
  },
  {
   "cell_type": "markdown",
   "metadata": {},
   "source": [
    "But the units are weird (not years, Mpc s/km).  To fix this, we need to know how many kilometers are in a megaparsec.  As it happens,  there are 3.09 x 10$^{19}$ km/Mpc.\n",
    "\n",
    "So, we can calculate the age of the universe in seconds (**Age_sec**) by converting the megaparsecs to km:\n",
    "\n",
    "Age (s) = $t \\frac{s \\cdot Mpc}{km}$ x $3.09 x 10^{19} \\frac {km}{Mpc}$"
   ]
  },
  {
   "cell_type": "code",
   "execution_count": 18,
   "metadata": {},
   "outputs": [
    {
     "name": "stdout",
     "output_type": "stream",
     "text": [
      "4.575325016985336e+17\n"
     ]
    }
   ],
   "source": [
    "Age_sec=t*3.09e19\n",
    "print(Age_sec)"
   ]
  },
  {
   "cell_type": "markdown",
   "metadata": {},
   "source": [
    "That's a lot of seconds!  We should convert seconds to years.  Here's another fun fact: there are approximately   $\\pi$ x 10$^7$ seconds in a year. \n",
    "\n",
    "More precisely, there are 60 (s/min) x 60 (min/hr) x 24 (hr/day) x 365.25 (days/yr)"
   ]
  },
  {
   "cell_type": "code",
   "execution_count": 19,
   "metadata": {},
   "outputs": [
    {
     "name": "stdout",
     "output_type": "stream",
     "text": [
      "3.155760e+07\n"
     ]
    }
   ],
   "source": [
    "s_yr=60*60*24*365.25\n",
    "print('%e'%(s_yr))"
   ]
  },
  {
   "cell_type": "markdown",
   "metadata": {},
   "source": [
    "Ok.  so not exactly $\\pi \\times 10^7$, but close....  "
   ]
  },
  {
   "cell_type": "code",
   "execution_count": 20,
   "metadata": {},
   "outputs": [
    {
     "name": "stdout",
     "output_type": "stream",
     "text": [
      "14498330091.595484\n"
     ]
    }
   ],
   "source": [
    "Age_yrs=Age_sec/s_yr\n",
    "print(Age_yrs)"
   ]
  },
  {
   "cell_type": "markdown",
   "metadata": {},
   "source": [
    "And now in billions of years:  "
   ]
  },
  {
   "cell_type": "code",
   "execution_count": 21,
   "metadata": {},
   "outputs": [
    {
     "name": "stdout",
     "output_type": "stream",
     "text": [
      "Age of the universe (in billions of years):\n",
      "14.498330091595484\n"
     ]
    }
   ],
   "source": [
    "print ('Age of the universe (in billions of years):')\n",
    "print(Age_yrs*1e-9)"
   ]
  },
  {
   "cell_type": "markdown",
   "metadata": {},
   "source": [
    "<font color=goldenrod>**_Code for you to write_**</font>\n",
    "\n",
    "**Write a function that takes in a Hubble constant value and calculates the age of the Universe in billions of year**"
   ]
  },
  {
   "cell_type": "code",
   "execution_count": 22,
   "metadata": {},
   "outputs": [],
   "source": [
    "def age_of_universe(Hubble_constant):\n",
    "    \n",
    "    return age"
   ]
  },
  {
   "cell_type": "markdown",
   "metadata": {},
   "source": [
    "## Using other data sets to estimate the Hubble constant\n",
    "\n",
    "Determining the Hubble constant continues to be a major avenue of astrophysical research. In fact, Wendy Freedman's group just published a new study (https://arxiv.org/abs/1907.05922) that is summarized in this short video:\n",
    "\n",
    "https://www.youtube.com/watch?v=awcnVykOKZY\n",
    "\n",
    "From that paper here is a visualization of Hubble constant determinations over the past 18 years:\n",
    "\n",
    "<img src=\"Images/Hubble_Constant_Time.png\" width=600>\n",
    "\n",
    "Let's look at another data set from the 2000 study to see how different data sets can lead to different answers.\n",
    "\n",
    "## Tully-Fisher Relation galaxy data\n",
    "> The total luminosity of a spiral galaxy (corrected to face-on inclination to account for extinction)\n",
    "is strongly correlated with the galaxy’s maximum (corrected to edge-on inclination) rotation\n",
    "velocity. This relation, calibrated via the Leavitt Law or TRGB, becomes a powerful means of determining\n",
    "extragalactic distances (Tully&Fisher 1977, Aaronson et al. 1986, Pierce&Tully 1988,\n",
    "Giovanelli et al. 1997). The TF relation at present is one of the most widely applied methods for\n",
    "distance measurements *Freedman and Madore (2010)*"
   ]
  },
  {
   "cell_type": "markdown",
   "metadata": {},
   "source": [
    "<font color=goldenrod>**_Code for you to write_**</font>\n",
    "\n",
    "**Import the 'Data/Freedman2000_IBandTullyFisher.csv' file. Make a linear fit to determine the slope between `VCMB` and `D(Mpc)`. Calculate the implied age of the universe from these TF galaxy data alone.**"
   ]
  },
  {
   "cell_type": "code",
   "execution_count": null,
   "metadata": {},
   "outputs": [],
   "source": []
  },
  {
   "cell_type": "code",
   "execution_count": null,
   "metadata": {},
   "outputs": [],
   "source": []
  },
  {
   "cell_type": "markdown",
   "metadata": {},
   "source": [
    "## Going even further out into the universe\n",
    "\n",
    "Let's look at new data sets available for the classic Hubble problem.  I found one published by Betoule et al. in 2014 [http://dx.doi.org/10.1051/0004-6361/201423413](http://dx.doi.org/10.1051/0004-6361/201423413).   In this paper, data are plotted using the parameters $z$ and $\\mu$ which are related to the red shift velocity and distance.  $z$ is the fractional shift in the spectral wavelength and $\\mu$ is related to distance. \n",
    "\n",
    "Here is a plot from the Betoule et al. paper: \n",
    "\n",
    "<img src=\"Images/betoule14.png\" width=600>\n",
    "\n",
    "_[Figure from Betoule et al., 2014.]  These data are type Ia supernova from different observation collaborations_  \n",
    "\n",
    "Notice that they plotted the data on a log scale. (This hides some surprising things.)\n",
    "\n",
    "It turns out that we have been looking at data that are low-z (that is relatively close and low red shift). We  need to convert $z$ and $\\mu$ to distance and velocity to compare to the results we have considered thus far.  \n",
    "\n",
    "According to [http://hyperphysics.phy-astr.gsu.edu/hbase/Astro/hubble.html](http://hyperphysics.phy-astr.gsu.edu/hbase/Astro/hubble.html)\n",
    "\n",
    "velocity $v$ (as fraction of the speed of light, $c$) is given by\n",
    "\n",
    "${v\\over c}= \\bigl({{(z+1)^2-1}  \\over {(z+1)^2+1}}\\bigr)$\n",
    "\n",
    "where $c=3 \\times 10^8$m s$^{-1}$.  \n",
    "\n",
    "And according to the Betoule et al. (2014) paper, $\\mu$ relates to distance in parsecs $d$ like this:  \n",
    "\n",
    "$\\mu=5\\log(d/10)$.   \n",
    "\n",
    "Let's read in the data (available from this website:  http://cdsarc.u-strasbg.fr/viz-bin/qcat?J/A+A/568/A22#sRM2.2), which are averages of the data shown in the figure above,and take a peek.  "
   ]
  },
  {
   "cell_type": "code",
   "execution_count": 24,
   "metadata": {},
   "outputs": [
    {
     "data": {
      "text/html": [
       "<div>\n",
       "<style scoped>\n",
       "    .dataframe tbody tr th:only-of-type {\n",
       "        vertical-align: middle;\n",
       "    }\n",
       "\n",
       "    .dataframe tbody tr th {\n",
       "        vertical-align: top;\n",
       "    }\n",
       "\n",
       "    .dataframe thead th {\n",
       "        text-align: right;\n",
       "    }\n",
       "</style>\n",
       "<table border=\"1\" class=\"dataframe\">\n",
       "  <thead>\n",
       "    <tr style=\"text-align: right;\">\n",
       "      <th></th>\n",
       "      <th>z</th>\n",
       "      <th>mu</th>\n",
       "    </tr>\n",
       "  </thead>\n",
       "  <tbody>\n",
       "    <tr>\n",
       "      <td>0</td>\n",
       "      <td>0.010</td>\n",
       "      <td>32.953887</td>\n",
       "    </tr>\n",
       "    <tr>\n",
       "      <td>1</td>\n",
       "      <td>0.012</td>\n",
       "      <td>33.879003</td>\n",
       "    </tr>\n",
       "    <tr>\n",
       "      <td>2</td>\n",
       "      <td>0.014</td>\n",
       "      <td>33.842141</td>\n",
       "    </tr>\n",
       "    <tr>\n",
       "      <td>3</td>\n",
       "      <td>0.016</td>\n",
       "      <td>34.118567</td>\n",
       "    </tr>\n",
       "    <tr>\n",
       "      <td>4</td>\n",
       "      <td>0.019</td>\n",
       "      <td>34.593446</td>\n",
       "    </tr>\n",
       "  </tbody>\n",
       "</table>\n",
       "</div>"
      ],
      "text/plain": [
       "       z         mu\n",
       "0  0.010  32.953887\n",
       "1  0.012  33.879003\n",
       "2  0.014  33.842141\n",
       "3  0.016  34.118567\n",
       "4  0.019  34.593446"
      ]
     },
     "execution_count": 24,
     "metadata": {},
     "output_type": "execute_result"
    }
   ],
   "source": [
    "Betoule_data = pd.read_csv('Data/mu_z.csv',header=1)\n",
    "Betoule_data.head()"
   ]
  },
  {
   "cell_type": "markdown",
   "metadata": {},
   "source": [
    " \n",
    "Now we can plot it the same way as the cosmologists did in the paper, using $\\mu$ and $\\log z$: "
   ]
  },
  {
   "cell_type": "code",
   "execution_count": 25,
   "metadata": {},
   "outputs": [
    {
     "data": {
      "image/png": "[encoded data removed]",
      "text/plain": [
       "<Figure size 432x288 with 1 Axes>"
      ]
     },
     "metadata": {
      "needs_background": "light"
     },
     "output_type": "display_data"
    }
   ],
   "source": [
    "plt.scatter(Betoule_data['z'],Betoule_data['mu'],color='blue')\n",
    "plt.xlabel('z')\n",
    "plt.ylabel('$\\mu$')\n",
    "plt.semilogx()\n",
    "plt.show()"
   ]
  },
  {
   "cell_type": "markdown",
   "metadata": {},
   "source": [
    "To compare these new data with the previous considered data, we must do the following:  \n",
    "- Transform $z$  to velocity  \n",
    "- Transform  $\\mu$ to distance using the equations provided. \n",
    "- Truncate the new dataset which goes to much farther distances than the 'old' data set"
   ]
  },
  {
   "cell_type": "code",
   "execution_count": 26,
   "metadata": {},
   "outputs": [],
   "source": [
    "c = 2.9979e8 / 1000 # speed of light in km/s\n",
    "Betoule_data['velocity'] = c * (((Betoule_data['z']+1.)**2-1.)/((Betoule_data['z']+1.)**2+1.)) # the formula for v from z (and c)\n",
    "Betoule_data['distance']=10000*(10.**((Betoule_data['mu'])/5.))*1e-9 # convert mu to Gpc"
   ]
  },
  {
   "cell_type": "code",
   "execution_count": 27,
   "metadata": {},
   "outputs": [
    {
     "data": {
      "image/png": "[encoded data removed]",
      "text/plain": [
       "<Figure size 576x432 with 1 Axes>"
      ]
     },
     "metadata": {
      "needs_background": "light"
     },
     "output_type": "display_data"
    }
   ],
   "source": [
    "plt.figure(figsize=(8,6))\n",
    "plt.scatter(Betoule_data['distance'],Betoule_data['velocity'],\n",
    "         color='blue',label='1A Supernovae data (Betoule et al. 2014)')\n",
    "plt.scatter(Supernova_data['D(Mpc)'],Supernova_data['VCMB'],\n",
    "            color='red',label='1A Supernovae data (Freedman et al. 2000)')\n",
    "plt.ylabel('Velocity (km s$^{-1}$)')\n",
    "plt.xlabel('Distance (Mpc)')\n",
    "plt.legend()\n",
    "plt.show()"
   ]
  },
  {
   "cell_type": "markdown",
   "metadata": {},
   "source": [
    "These data sets are similar to one another for the \"close\" objects, but we can see that a linear model doesn't work well for objects that are at greater distances.\n",
    "\n",
    "To visualize this reality, let's plot the fit to the Freedman et al. 2000 data atop this plot (applying it to the Betoule distances using `np.polyval()`."
   ]
  },
  {
   "cell_type": "code",
   "execution_count": 28,
   "metadata": {},
   "outputs": [
    {
     "data": {
      "image/png": "[encoded data removed]",
      "text/plain": [
       "<Figure size 576x432 with 1 Axes>"
      ]
     },
     "metadata": {
      "needs_background": "light"
     },
     "output_type": "display_data"
    }
   ],
   "source": [
    "model_y_values = np.polyval(m_b,Betoule_data['distance'])\n",
    "\n",
    "plt.figure(figsize=(8,6))\n",
    "plt.scatter(Betoule_data['distance'],Betoule_data['velocity'],\n",
    "         color='blue',label='1A Supernovae data (Betoule et al. 2014)')\n",
    "plt.scatter(Supernova_data['D(Mpc)'],Supernova_data['VCMB'],\n",
    "            color='red',label='1A Supernovae data (Freedman et al. 2000)')\n",
    "plt.plot(Betoule_data['distance'],model_y_values,\n",
    "         color='black',label='1A Supernovae fit to Freedman data')\n",
    "plt.ylabel('Velocity (km s$^{-1}$)')\n",
    "plt.xlabel('Distance (Mpc)')\n",
    "plt.legend()\n",
    "plt.show()"
   ]
  },
  {
   "cell_type": "markdown",
   "metadata": {},
   "source": [
    "Clearly this fit is quite poor.\n",
    "\n",
    "Let's make a first-order polynomial fit to all the Betoule data and then plot the residual:"
   ]
  },
  {
   "cell_type": "code",
   "execution_count": 29,
   "metadata": {},
   "outputs": [
    {
     "data": {
      "image/png": "[encoded data removed]",
      "text/plain": [
       "<Figure size 432x288 with 2 Axes>"
      ]
     },
     "metadata": {
      "needs_background": "light"
     },
     "output_type": "display_data"
    }
   ],
   "source": [
    "fit = np.polyfit(Betoule_data['distance'],Betoule_data['velocity'],1) \n",
    "y_values = np.polyval(fit,Betoule_data['distance'])\n",
    "\n",
    "plt.subplot(2,1,1)\n",
    "plt.scatter(Betoule_data['distance'],Betoule_data['velocity'])\n",
    "plt.plot(Betoule_data['distance'],y_values,color='orange',)\n",
    "plt.title('data and a polynomial degree 1 fit')\n",
    "plt.ylabel('Velocity (km s$^{-1}$)')\n",
    "plt.xlabel('Distance (Mpc)')\n",
    "\n",
    "plt.subplot(2,1,2)\n",
    "plt.scatter(Betoule_data['distance'],Betoule_data['velocity']-y_values)\n",
    "plt.title('residuals of a polynomial degree 1 fit')\n",
    "plt.ylabel('Residual velocity (km s$^{-1}$)')\n",
    "plt.xlabel('Distance (Mpc)')\n",
    "\n",
    "plt.tight_layout()\n",
    "plt.show()"
   ]
  },
  {
   "cell_type": "markdown",
   "metadata": {},
   "source": [
    "There is a lot of structure to the residual of this degree 1 fit. Let's try a degree 2 polynomial fit (known as quadratic):\n",
    "\n",
    "$f(x)=ax^2+bx+c$"
   ]
  },
  {
   "cell_type": "code",
   "execution_count": 30,
   "metadata": {},
   "outputs": [
    {
     "data": {
      "image/png": "[encoded data removed]",
      "text/plain": [
       "<Figure size 432x288 with 2 Axes>"
      ]
     },
     "metadata": {
      "needs_background": "light"
     },
     "output_type": "display_data"
    }
   ],
   "source": [
    "fit = np.polyfit(Betoule_data['distance'],Betoule_data['velocity'],2) \n",
    "y_values = np.polyval(fit,Betoule_data['distance'])\n",
    "\n",
    "plt.subplot(2,1,1)\n",
    "plt.scatter(Betoule_data['distance'],Betoule_data['velocity'])\n",
    "plt.plot(Betoule_data['distance'],y_values,color='orange',)\n",
    "plt.title('data and a polynomial degree 2 fit')\n",
    "plt.ylabel('Velocity (km s$^{-1}$)')\n",
    "plt.xlabel('Distance (Mpc)')\n",
    "\n",
    "plt.subplot(2,1,2)\n",
    "plt.scatter(Betoule_data['distance'],Betoule_data['velocity']-y_values)\n",
    "plt.title('residuals of a polynomial degree 2 fit')\n",
    "plt.ylabel('Residual velocity (km s$^{-1}$)')\n",
    "plt.xlabel('Distance (Mpc)')\n",
    "\n",
    "plt.tight_layout()\n",
    "plt.show()"
   ]
  },
  {
   "cell_type": "markdown",
   "metadata": {},
   "source": [
    "There is a lot of structure to the residuals of this degree 2 fit (and the residuals are still high). Let's try a degree 3 polynomial fit (known as cubic):\n",
    "\n",
    "$f(x)=ax^3+bx^2+cx+d$"
   ]
  },
  {
   "cell_type": "code",
   "execution_count": 31,
   "metadata": {},
   "outputs": [
    {
     "data": {
      "image/png": "[encoded data removed]",
      "text/plain": [
       "<Figure size 432x288 with 2 Axes>"
      ]
     },
     "metadata": {
      "needs_background": "light"
     },
     "output_type": "display_data"
    }
   ],
   "source": [
    "fit = np.polyfit(Betoule_data['distance'],Betoule_data['velocity'],3) \n",
    "y_values = np.polyval(fit,Betoule_data['distance'])\n",
    "\n",
    "plt.subplot(2,1,1)\n",
    "plt.scatter(Betoule_data['distance'],Betoule_data['velocity'])\n",
    "plt.plot(Betoule_data['distance'],y_values,color='orange',)\n",
    "plt.title('data and a polynomial degree 3 fit')\n",
    "plt.ylabel('Velocity (km s$^{-1}$)')\n",
    "plt.xlabel('Distance (Mpc)')\n",
    "\n",
    "plt.subplot(2,1,2)\n",
    "plt.scatter(Betoule_data['distance'],Betoule_data['velocity']-y_values)\n",
    "plt.title('residuals of a polynomial degree 3 fit')\n",
    "plt.ylabel('Residual velocity (km s$^{-1}$)')\n",
    "plt.xlabel('Distance (Mpc)')\n",
    "\n",
    "plt.tight_layout()\n",
    "plt.show()"
   ]
  },
  {
   "cell_type": "markdown",
   "metadata": {},
   "source": [
    "Can a degree 4 polynomial fit do better?\n",
    "\n",
    "$f(x)=ax^4+bx^3+cx^2+dx+e$"
   ]
  },
  {
   "cell_type": "code",
   "execution_count": 32,
   "metadata": {},
   "outputs": [
    {
     "data": {
      "image/png": "[encoded data removed]",
      "text/plain": [
       "<Figure size 432x288 with 2 Axes>"
      ]
     },
     "metadata": {
      "needs_background": "light"
     },
     "output_type": "display_data"
    }
   ],
   "source": [
    "fit = np.polyfit(Betoule_data['distance'],Betoule_data['velocity'],4) \n",
    "y_values = np.polyval(fit,Betoule_data['distance'])\n",
    "\n",
    "plt.subplot(2,1,1)\n",
    "plt.scatter(Betoule_data['distance'],Betoule_data['velocity'])\n",
    "plt.plot(Betoule_data['distance'],y_values,color='orange',)\n",
    "plt.title('data and a polynomial degree 4 fit')\n",
    "plt.ylabel('Velocity (km s$^{-1}$)')\n",
    "plt.xlabel('Distance (Mpc)')\n",
    "\n",
    "plt.subplot(2,1,2)\n",
    "plt.scatter(Betoule_data['distance'],Betoule_data['velocity']-y_values)\n",
    "plt.title('residuals of a polynomial degree 4 fit')\n",
    "plt.ylabel('Residual velocity (km s$^{-1}$)')\n",
    "plt.xlabel('Distance (Mpc)')\n",
    "\n",
    "plt.tight_layout()\n",
    "plt.show()"
   ]
  },
  {
   "cell_type": "markdown",
   "metadata": {},
   "source": [
    "That looks about the same as the cubic so might as well stick with that one as a working model.\n",
    "\n",
    "That the velocity-distance relationship is not linear is taken as evidence that the expansion of the universe is accelerating. This acceleration is attributed to dark energy:\n",
    "\n",
    "> In a matter-dominated universe, the expansion velocity of the Universe slows down over\n",
    "time owing to the attractive force of gravity. However, a decade ago two independent groups (Perlmutter et al. 1999, Riess et al. 1998) found that supernovae at z ∼ 0.5 appear to be about 10%\n",
    "fainter than those observed locally, consistent instead with models in which the expansion velocity\n",
    "is increasing; that is, a universe that is accelerating in its expansion. Combined with independent\n",
    "estimates of the matter density, these results are consistent with a universe in which one-third of\n",
    "the overall density is in the form of matter (ordinary plus dark), and two-thirds is in a form having\n",
    "a large, negative pressure, termed dark energy. *Freedman and Madore (2010)*"
   ]
  },
  {
   "cell_type": "code",
   "execution_count": null,
   "metadata": {},
   "outputs": [],
   "source": []
  }
 ],
 "metadata": {
  "kernelspec": {
   "display_name": "Python 3",
   "language": "python",
   "name": "python3"
  },
  "language_info": {
   "codemirror_mode": {
    "name": "ipython",
    "version": 3
   },
   "file_extension": ".py",
   "mimetype": "text/x-python",
   "name": "python",
   "nbconvert_exporter": "python",
   "pygments_lexer": "ipython3",
   "version": "3.6.7"
  }
 },
 "nbformat": 4,
 "nbformat_minor": 4
}
