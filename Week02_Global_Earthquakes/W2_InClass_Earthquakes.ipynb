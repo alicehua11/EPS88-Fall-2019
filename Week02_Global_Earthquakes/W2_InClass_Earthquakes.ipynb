{
 "cells": [
  {
   "cell_type": "markdown",
   "metadata": {},
   "source": [
    "# Week 2: Earthquakes and plate boundaries\n",
    "\n",
    "**Our goals for today:**\n",
    "- Load and visualize an earthquake catalog.\n",
    "- Plot histograms of earthquake magnitude and depth.\n",
    "- Think about these data in terms of plate boundaries."
   ]
  },
  {
   "cell_type": "markdown",
   "metadata": {},
   "source": [
    "### Setup\n",
    "\n",
    "Run this cell as it is to setup your environment."
   ]
  },
  {
   "cell_type": "code",
   "execution_count": 1,
   "metadata": {},
   "outputs": [],
   "source": [
    "import numpy as np\n",
    "import matplotlib.pyplot as plt\n",
    "import pandas as pd\n",
    "from cartopy import config\n",
    "import cartopy.crs as ccrs"
   ]
  },
  {
   "cell_type": "markdown",
   "metadata": {},
   "source": [
    "## Load the Earthquake Catalog"
   ]
  },
  {
   "cell_type": "markdown",
   "metadata": {},
   "source": [
    "Load the .csv (comma separated values) data file of all the earthquakes of magnitude 4 and higher from 2000 - 2012 in the ANSS (Advanced National Seismic System) Comprehensive Catalog or \"ComCat.\"\n",
    "\n",
    "The ANSS Comprehensive Catalog (ComCat) http://www.quake.geo.berkeley.edu/anss/catalog-search.html\n",
    "\n",
    "This data set has the following columns:\n",
    "\n",
    "DateTime,Latitude,Longitude,Depth,Magnitude,MagType,NbStations,Gap,Distance,RMS,Source,EventID\n",
    "\n",
    "Let's import it using the pandas `pd.read_csv()` function. We can see the first 5 rows of the dataframe using the `.head()` function."
   ]
  },
  {
   "cell_type": "code",
   "execution_count": 2,
   "metadata": {},
   "outputs": [
    {
     "data": {
      "text/html": [
       "<div>\n",
       "<style scoped>\n",
       "    .dataframe tbody tr th:only-of-type {\n",
       "        vertical-align: middle;\n",
       "    }\n",
       "\n",
       "    .dataframe tbody tr th {\n",
       "        vertical-align: top;\n",
       "    }\n",
       "\n",
       "    .dataframe thead th {\n",
       "        text-align: right;\n",
       "    }\n",
       "</style>\n",
       "<table border=\"1\" class=\"dataframe\">\n",
       "  <thead>\n",
       "    <tr style=\"text-align: right;\">\n",
       "      <th></th>\n",
       "      <th>DateTime</th>\n",
       "      <th>Latitude</th>\n",
       "      <th>Longitude</th>\n",
       "      <th>Depth</th>\n",
       "      <th>Magnitude</th>\n",
       "      <th>MagType</th>\n",
       "      <th>NbStations</th>\n",
       "      <th>Gap</th>\n",
       "      <th>Distance</th>\n",
       "      <th>RMS</th>\n",
       "      <th>Source</th>\n",
       "      <th>EventID</th>\n",
       "    </tr>\n",
       "  </thead>\n",
       "  <tbody>\n",
       "    <tr>\n",
       "      <th>0</th>\n",
       "      <td>2000/01/01 01:19:26.99</td>\n",
       "      <td>41.927</td>\n",
       "      <td>20.543</td>\n",
       "      <td>10.0</td>\n",
       "      <td>4.8</td>\n",
       "      <td>ML</td>\n",
       "      <td>187</td>\n",
       "      <td>NaN</td>\n",
       "      <td>NaN</td>\n",
       "      <td>1.14</td>\n",
       "      <td>NEI</td>\n",
       "      <td>2.000010e+11</td>\n",
       "    </tr>\n",
       "    <tr>\n",
       "      <th>1</th>\n",
       "      <td>2000/01/01 02:12:13.45</td>\n",
       "      <td>-11.348</td>\n",
       "      <td>164.568</td>\n",
       "      <td>33.0</td>\n",
       "      <td>4.3</td>\n",
       "      <td>Mb</td>\n",
       "      <td>9</td>\n",
       "      <td>NaN</td>\n",
       "      <td>NaN</td>\n",
       "      <td>1.16</td>\n",
       "      <td>NEI</td>\n",
       "      <td>2.000010e+11</td>\n",
       "    </tr>\n",
       "    <tr>\n",
       "      <th>2</th>\n",
       "      <td>2000/01/01 04:30:10.37</td>\n",
       "      <td>-26.012</td>\n",
       "      <td>-68.803</td>\n",
       "      <td>105.0</td>\n",
       "      <td>4.5</td>\n",
       "      <td>Mb</td>\n",
       "      <td>44</td>\n",
       "      <td>NaN</td>\n",
       "      <td>NaN</td>\n",
       "      <td>0.91</td>\n",
       "      <td>NEI</td>\n",
       "      <td>2.000010e+11</td>\n",
       "    </tr>\n",
       "    <tr>\n",
       "      <th>3</th>\n",
       "      <td>2000/01/01 05:24:35.29</td>\n",
       "      <td>36.874</td>\n",
       "      <td>69.947</td>\n",
       "      <td>54.3</td>\n",
       "      <td>5.1</td>\n",
       "      <td>Mw</td>\n",
       "      <td>181</td>\n",
       "      <td>NaN</td>\n",
       "      <td>NaN</td>\n",
       "      <td>0.83</td>\n",
       "      <td>NEI</td>\n",
       "      <td>2.000010e+11</td>\n",
       "    </tr>\n",
       "    <tr>\n",
       "      <th>4</th>\n",
       "      <td>2000/01/01 05:58:19.78</td>\n",
       "      <td>-60.722</td>\n",
       "      <td>153.670</td>\n",
       "      <td>10.0</td>\n",
       "      <td>6.0</td>\n",
       "      <td>Mw</td>\n",
       "      <td>87</td>\n",
       "      <td>NaN</td>\n",
       "      <td>NaN</td>\n",
       "      <td>1.05</td>\n",
       "      <td>NEI</td>\n",
       "      <td>2.000010e+11</td>\n",
       "    </tr>\n",
       "  </tbody>\n",
       "</table>\n",
       "</div>"
      ],
      "text/plain": [
       "                 DateTime  Latitude  Longitude  Depth  Magnitude MagType  \\\n",
       "0  2000/01/01 01:19:26.99    41.927     20.543   10.0        4.8      ML   \n",
       "1  2000/01/01 02:12:13.45   -11.348    164.568   33.0        4.3      Mb   \n",
       "2  2000/01/01 04:30:10.37   -26.012    -68.803  105.0        4.5      Mb   \n",
       "3  2000/01/01 05:24:35.29    36.874     69.947   54.3        5.1      Mw   \n",
       "4  2000/01/01 05:58:19.78   -60.722    153.670   10.0        6.0      Mw   \n",
       "\n",
       "   NbStations  Gap  Distance   RMS Source       EventID  \n",
       "0         187  NaN       NaN  1.14    NEI  2.000010e+11  \n",
       "1           9  NaN       NaN  1.16    NEI  2.000010e+11  \n",
       "2          44  NaN       NaN  0.91    NEI  2.000010e+11  \n",
       "3         181  NaN       NaN  0.83    NEI  2.000010e+11  \n",
       "4          87  NaN       NaN  1.05    NEI  2.000010e+11  "
      ]
     },
     "execution_count": 2,
     "metadata": {},
     "output_type": "execute_result"
    }
   ],
   "source": [
    "EQ_data = pd.read_csv('data/ANSS_2000_2012.csv',header=7)\n",
    "EQ_data.head()"
   ]
  },
  {
   "cell_type": "markdown",
   "metadata": {},
   "source": [
    "Recall from the homework that Pandas dataframe columns can be accessed using bracket notation with the name of the column as a string:"
   ]
  },
  {
   "cell_type": "code",
   "execution_count": null,
   "metadata": {},
   "outputs": [],
   "source": [
    "EQ_data['Magnitude']"
   ]
  },
  {
   "cell_type": "markdown",
   "metadata": {},
   "source": [
    "## Largest Earthquake in Catalog\n",
    "\n",
    "What is the largest magnitude earthquake in our catalog?\n",
    "\n",
    "<font color=goldenrod>**_Code for you to write_**</font>\n",
    "\n",
    "Use the `np.max()` function on the `EQ_data['Magnitude']` column to answer this question in the code block below."
   ]
  },
  {
   "cell_type": "code",
   "execution_count": null,
   "metadata": {},
   "outputs": [],
   "source": []
  },
  {
   "cell_type": "markdown",
   "metadata": {},
   "source": [
    "Write the magnitude in this cell:\n",
    "\n"
   ]
  },
  {
   "cell_type": "markdown",
   "metadata": {},
   "source": [
    "### Determining when and where the largest Earthquake happened\n",
    "\n",
    "To determine when this earthquake happened we need to find the data associated with this magnitude event. Pandas has really nice filtering functions built in. They take a while to get comfortable with, but can help us answer this question. \n",
    "\n",
    "Define a variable `largest_magnitude` that is the largest magnitude and then execute the cell below to get the date and time."
   ]
  },
  {
   "cell_type": "code",
   "execution_count": null,
   "metadata": {},
   "outputs": [],
   "source": [
    "largest_magnitude = "
   ]
  },
  {
   "cell_type": "code",
   "execution_count": null,
   "metadata": {},
   "outputs": [],
   "source": [
    "largest_eq_date = EQ_data['DateTime'][EQ_data['Magnitude'] == largest_magnitude]\n",
    "print(largest_eq_date)"
   ]
  },
  {
   "cell_type": "markdown",
   "metadata": {},
   "source": [
    "To determine where the earthquake happened we can use similar filtering. Replace the xxx with a conditional statement to get the latitude and longitude:"
   ]
  },
  {
   "cell_type": "code",
   "execution_count": null,
   "metadata": {},
   "outputs": [],
   "source": [
    "largest_eq_lon = EQ_data['Longitude'][xxx]\n",
    "largest_eq_lat = EQ_data['Latitude'][xxx]"
   ]
  },
  {
   "cell_type": "markdown",
   "metadata": {},
   "source": [
    "Let's plot a red circle at the location of the largest earthquake in our catalog changing `s` will adjust the size of the marker. Changing `color` will change the color."
   ]
  },
  {
   "cell_type": "code",
   "execution_count": null,
   "metadata": {},
   "outputs": [],
   "source": [
    "plt.figure(1,(15,15))\n",
    "ax = plt.axes(projection=ccrs.Robinson())\n",
    "ax.set_global()\n",
    "\n",
    "plt.scatter(largest_eq_lon,largest_eq_lat,s=100,marker='o',color='red',transform=ccrs.PlateCarree())\n",
    "\n",
    "plt.title('2011 Tōhoku earthquake')    \n",
    "ax.coastlines()\n",
    "ax.stock_img()\n",
    "ax.gridlines()\n",
    "\n",
    "plt.show()"
   ]
  },
  {
   "cell_type": "markdown",
   "metadata": {},
   "source": [
    "**_Discussion question:_** *What were the effects of this earthquake?*"
   ]
  },
  {
   "cell_type": "markdown",
   "metadata": {},
   "source": [
    "## Plot histogram of Earthquake Magnitude\n",
    "\n",
    "How often do large earthquakes occur? To start addressing this question, let's plot a histogram of earthquake magnitudes.\n",
    "\n",
    "<font color=goldenrod>**_Code for you to write_**</font>\n",
    "\n",
    "You have made a histogram before (such as in class last week) so go and ahead and write the code to make one in the cell below that plots up the `EQ_data['Magnitude']`."
   ]
  },
  {
   "cell_type": "code",
   "execution_count": null,
   "metadata": {},
   "outputs": [],
   "source": []
  },
  {
   "cell_type": "markdown",
   "metadata": {},
   "source": [
    "There are so many small earthquakes that we can't even see a bin for the Tohoku quake. Let's make the histogram on a log-scale. For any function, we can put a question mark after it to get its docstring. Let's do this for `plt.hist`. Once you execute the cell below, you will see that there are a lot of options (which you can also view here: https://matplotlib.org/api/_as_gen/matplotlib.pyplot.hist.html). One of the options is to make the plot be on a log scale by setting `log=True`."
   ]
  },
  {
   "cell_type": "code",
   "execution_count": null,
   "metadata": {},
   "outputs": [],
   "source": [
    "plt.hist?"
   ]
  },
  {
   "cell_type": "markdown",
   "metadata": {},
   "source": [
    "**_Make a histogram of the Earthquake magnitude data on a log-scale_** \n",
    "\n",
    "Set `log=True` within the `plt.hist` function."
   ]
  },
  {
   "cell_type": "code",
   "execution_count": null,
   "metadata": {},
   "outputs": [],
   "source": []
  },
  {
   "cell_type": "markdown",
   "metadata": {},
   "source": [
    "## Plot histogram of Earthquake Depths\n",
    "\n",
    "Let's see the range and frequency of depths where earthquakes occur. **_Make a histogram of earthquake depth_**"
   ]
  },
  {
   "cell_type": "code",
   "execution_count": null,
   "metadata": {},
   "outputs": [],
   "source": []
  },
  {
   "cell_type": "markdown",
   "metadata": {},
   "source": [
    "**_At what depth are the majority of earthquakes? How deep do they extend? How does that compare to the typical depth of the lithosphere (~100 km)?_**\n",
    "\n",
    "_Write your answer here._ "
   ]
  },
  {
   "cell_type": "markdown",
   "metadata": {},
   "source": [
    "## Map of Earthquake Epicenters"
   ]
  },
  {
   "cell_type": "markdown",
   "metadata": {},
   "source": [
    "Now let's plot the epicenters of the earthquakes on a Robinson projection. Replace the xxx's with longitude and latitude in order to make the map."
   ]
  },
  {
   "cell_type": "code",
   "execution_count": null,
   "metadata": {},
   "outputs": [],
   "source": [
    "plt.figure(figsize=(15,15))\n",
    "ax = plt.axes(projection=ccrs.Robinson())\n",
    "ax.set_global()\n",
    "\n",
    "plt.scatter(xxx,xxx,marker='.',color='black',transform=ccrs.PlateCarree())\n",
    "\n",
    "plt.title('Earthquake Epicenters 2000-2012')\n",
    "ax.coastlines()\n",
    "ax.stock_img()\n",
    "ax.gridlines()\n",
    "\n",
    "plt.show()"
   ]
  },
  {
   "cell_type": "markdown",
   "metadata": {},
   "source": [
    "## Small Group Discussion\n",
    "\n",
    "**_Where do the majority of earthquakes occur?_**\n",
    "\n",
    "**_What do those locations correspond with?_**"
   ]
  },
  {
   "cell_type": "markdown",
   "metadata": {},
   "source": [
    "_Write a summary of your discussion here._"
   ]
  },
  {
   "cell_type": "markdown",
   "metadata": {},
   "source": [
    "## Maps of Earthquake Depth\n",
    "\n",
    "The map we made above is nice, but it doesn't tell us everything about our data such as the depth of the earthquakes. Let's color code the earthquakes by depth when we map them.\n",
    "\n",
    "To do this, use the same `plt.scatter()` function, but add the option to set the color by depth. You can do this by having  `c=EQ_data['Depth']` within the function. You can customize the output by setting the minimum value for the color bar `vmin=0` and the maximum value `vmax=200`. You can also customize the colormap. A perceptually uniform sequential color map like `cmap='magma_r'` works well (https://matplotlib.org/tutorials/colors/colormaps.html). I think it also is nice to make the points partially see through by setting `alpha=0.5`. All of these customizations can be made by adding these arguments within the `plt.scatter()` function.\n",
    "\n",
    "**_Make a map that colors points by depth by inserting these arguments in the plt.scatter() function in the code block below._**"
   ]
  },
  {
   "cell_type": "code",
   "execution_count": null,
   "metadata": {},
   "outputs": [],
   "source": [
    "fig = plt.figure(figsize=(15,15))\n",
    "ax = plt.axes(projection=ccrs.Robinson())\n",
    "ax.set_global()\n",
    "\n",
    "plt.scatter(xxx,xxx,INSERT_ARGUMENTS,transform=ccrs.PlateCarree())\n",
    "\n",
    "plt.title('Earthquake Epicenters 2000-2012')\n",
    "ax.coastlines()\n",
    "ax.stock_img()\n",
    "ax.gridlines()\n",
    "plt.colorbar(shrink=0.4,label='depth (km)')\n",
    "plt.show()"
   ]
  },
  {
   "cell_type": "markdown",
   "metadata": {},
   "source": [
    "**_What depth of earthquakes occur at mid-ocean ridges?_**\n",
    "\n",
    "*Write your answer here.*"
   ]
  },
  {
   "cell_type": "markdown",
   "metadata": {},
   "source": [
    "The earthquakes at trenches (like around the Pacific ocean's 'ring of fire') get deeper in a systematic way. The deepest earthquakes are the farthest from the trench. This reveals the location of the downgoing slabs."
   ]
  },
  {
   "cell_type": "markdown",
   "metadata": {},
   "source": [
    "<img src=\"Figures/slab_eq.png\">\n",
    "> Source: Fundamentals of Geophysics (2nd Edition) Lowrie, W."
   ]
  },
  {
   "cell_type": "markdown",
   "metadata": {},
   "source": [
    "What direction is subduction occuring below South America? Japan?"
   ]
  },
  {
   "cell_type": "markdown",
   "metadata": {},
   "source": [
    "_Write your answer here._"
   ]
  },
  {
   "cell_type": "markdown",
   "metadata": {},
   "source": [
    "## Andean subduction \n",
    "\n",
    "Let's look at a subset of this earthquake catalog across the Andes in South America. The code below is filtering the data frame to only include those between 20ºS and 25ºS latitude and 75ºW and 60ºW longitude."
   ]
  },
  {
   "cell_type": "code",
   "execution_count": null,
   "metadata": {},
   "outputs": [],
   "source": [
    "selected_quakes = EQ_data[(EQ_data['Latitude']>-25)&(EQ_data['Latitude']<-20)\n",
    "                          &(EQ_data['Longitude']> -75)&(EQ_data['Longitude']< -60)]"
   ]
  },
  {
   "cell_type": "code",
   "execution_count": null,
   "metadata": {},
   "outputs": [],
   "source": [
    "plt.figure(1,(15,15)) # make a big figure \n",
    "ax = plt.axes(projection=ccrs.Robinson())\n",
    "ax.set_global()\n",
    "\n",
    "plt.scatter(selected_quakes['Longitude'],selected_quakes['Latitude'],marker='.',color='black',transform=ccrs.PlateCarree())\n",
    "\n",
    "plt.title('Earthquake Epicenters 2000-2012')\n",
    "ax.coastlines()\n",
    "ax.stock_img()\n",
    "ax.gridlines()\n",
    "\n",
    "plt.show()"
   ]
  },
  {
   "cell_type": "markdown",
   "metadata": {},
   "source": [
    "Let's take all of the earthquakes within that region and plot earthquake depth on the y-axis and earthquake location on the x-axis. **Labeling axes is super important in science! Don't make plots without labeled axes!**"
   ]
  },
  {
   "cell_type": "code",
   "execution_count": null,
   "metadata": {},
   "outputs": [],
   "source": [
    "plt.scatter(selected_quakes['Longitude'],-selected_quakes['Depth'])\n",
    "plt.xlabel('longitude (º)')\n",
    "plt.ylabel('depth (km)')\n",
    "plt.show()"
   ]
  },
  {
   "cell_type": "markdown",
   "metadata": {},
   "source": [
    "## Pick other locations of interest\n",
    "\n",
    "Filter the earthquake catalog by a latitude and longitude range like we did above the South America example. Plot the earthquakes on a map and make a similar depth vs. longitude plot (or depth vs latitude plot) for another region."
   ]
  },
  {
   "cell_type": "code",
   "execution_count": null,
   "metadata": {},
   "outputs": [],
   "source": []
  },
  {
   "cell_type": "code",
   "execution_count": null,
   "metadata": {},
   "outputs": [],
   "source": []
  },
  {
   "cell_type": "code",
   "execution_count": null,
   "metadata": {},
   "outputs": [],
   "source": []
  },
  {
   "cell_type": "markdown",
   "metadata": {},
   "source": [
    "## Make map that indicates magnitude\n",
    "\n",
    "Now let's map magnitude."
   ]
  },
  {
   "cell_type": "code",
   "execution_count": null,
   "metadata": {},
   "outputs": [],
   "source": [
    "EQ_data.index"
   ]
  },
  {
   "cell_type": "code",
   "execution_count": 4,
   "metadata": {},
   "outputs": [],
   "source": [
    "EQ_data_5 = EQ_data[EQ_data['Magnitude'] > 5]\n",
    "EQ_data_6 = EQ_data[EQ_data['Magnitude'] > 6]\n",
    "EQ_data_7 = EQ_data[EQ_data['Magnitude'] > 7]\n",
    "EQ_data_8 = EQ_data[EQ_data['Magnitude'] > 8]"
   ]
  },
  {
   "cell_type": "code",
   "execution_count": 8,
   "metadata": {},
   "outputs": [
    {
     "data": {
      "image/png": "[encoded data removed]",
      "text/plain": [
       "<Figure size 720x720 with 1 Axes>"
      ]
     },
     "metadata": {
      "needs_background": "light"
     },
     "output_type": "display_data"
    }
   ],
   "source": [
    "plt.figure(1,(10,10)) # make a big figure \n",
    "ax = plt.axes(projection=ccrs.Robinson())\n",
    "ax.set_global()\n",
    "\n",
    "plt.scatter(EQ_data_5['Longitude'],EQ_data_5['Latitude'],\n",
    "            transform=ccrs.PlateCarree())\n",
    "plt.scatter(EQ_data_6['Longitude'],EQ_data_6['Latitude'],\n",
    "            transform=ccrs.PlateCarree())\n",
    "plt.scatter(EQ_data_7['Longitude'],EQ_data_7['Latitude'],\n",
    "            transform=ccrs.PlateCarree())\n",
    "plt.scatter(EQ_data_8['Longitude'],EQ_data_8['Latitude'],\n",
    "            transform=ccrs.PlateCarree())\n",
    "\n",
    "        \n",
    "plt.show()"
   ]
  },
  {
   "cell_type": "code",
   "execution_count": null,
   "metadata": {},
   "outputs": [],
   "source": [
    "# set bin ranges for magnitude\n",
    "mag_bins=[5,6,7,8,9,9.2] # a list of depth bins\n",
    "mag_colors=['blue','lightblue','green','yellow','orange','red']"
   ]
  },
  {
   "cell_type": "code",
   "execution_count": null,
   "metadata": {},
   "outputs": [],
   "source": [
    "plt.figure(1,(15,15)) # make a big figure \n",
    "ax = plt.axes(projection=ccrs.Robinson())\n",
    "ax.set_global()\n",
    "\n",
    "# now we put on the earthquakes\n",
    "last_bin=4 # this is the lower bound of the first bin of magnitudes\n",
    "\n",
    "for m in mag_bins: # step through the magnitudes list\n",
    "    # use Pandas filtering to fish out magnitudes in this range\n",
    "    mag = EQ_data[(EQ_mag < m)&(EQ_mag >= last_bin)]\n",
    "    # pull the map coordinates for those earthquakes\n",
    "    x = mag.Longitude.values\n",
    "    y = mag.Latitude.values\n",
    "    \n",
    "    \n",
    "    mylabel= \"M = %s - %s\"%(last_bin,M) # lable them for the legend\n",
    "    # put this batch of earthquakes on the map\n",
    "    plt.scatter(x,y,marker='o',color=mag_colors[mag_bins.index(M)],edgecolor='black',transform=ccrs.PlateCarree(),label=mylabel)\n",
    "    \n",
    "    last_bin=M # increment the lower bound for the bin\n",
    "\n",
    "    \n",
    "plt.title('Earthquake Magnitudes 2000-2012')\n",
    "ax.coastlines()\n",
    "ax.stock_img()\n",
    "ax.gridlines()\n",
    "\n",
    "ax.legend(loc='lower left', fontsize='large')\n",
    "\n",
    "plt.show()"
   ]
  },
  {
   "cell_type": "markdown",
   "metadata": {},
   "source": [
    "Does this map communicate what we want? The relative frequency of each magnitude? The bias in location of large earthquakes? The nature of the magnitude scale (1 unit magnitude is 10x in motion)?"
   ]
  },
  {
   "cell_type": "markdown",
   "metadata": {},
   "source": [
    "Let's scale the size of the markers by the magnitude, so bigger quakes are bigger circles."
   ]
  },
  {
   "cell_type": "code",
   "execution_count": null,
   "metadata": {},
   "outputs": [],
   "source": [
    "plt.figure(1,(15,15)) # make a big figure \n",
    "ax = plt.axes(projection=ccrs.Robinson())\n",
    "ax.set_global()\n",
    "\n",
    "# now we put on the earthquakes\n",
    "last_bin=4 # this is the lower bound of the first bin of magnitudes\n",
    "\n",
    "for M in mag_bins: # step through the magnitudes list\n",
    "    # use Pandas filtering to fish out magnitudes in this range\n",
    "    mag=EQ_data[(EQ_mag<M)&(EQ_mag>=last_bin)]\n",
    "    # pull the map coordinates for those earthquakes\n",
    "    x = mag.Longitude.values\n",
    "    y = mag.Latitude.values\n",
    "    \n",
    "    \n",
    "    mylabel = \"M = %s - %s\"%(last_bin,M) # lable them for the legend\n",
    "    \n",
    "    \n",
    "    # changing s will adjust the size of the marker\n",
    "    mysize = 2**(mag.Magnitude.values) # set s to increase with magnitude\n",
    "    \n",
    "    # put this batch of earthquakes on the map\n",
    "    plt.scatter(x,y,s=mysize,marker='o',color=mag_colors[mag_bins.index(M)],edgecolor='black',transform=ccrs.PlateCarree(),label=mylabel)\n",
    "    \n",
    "    last_bin=M # increment the lower bound for the bin\n",
    "\n",
    "plt.title('Earthquake Magnitudes 2000-2012')    \n",
    "ax.coastlines()\n",
    "ax.stock_img()\n",
    "ax.gridlines()\n",
    "\n",
    "ax.legend(loc='lower left', fontsize='large')\n",
    "\n",
    "plt.show()"
   ]
  },
  {
   "cell_type": "markdown",
   "metadata": {},
   "source": [
    "Where do the largest earthquakes occur? What type of plate boundary?"
   ]
  },
  {
   "cell_type": "markdown",
   "metadata": {},
   "source": [
    "_Write your answer here._"
   ]
  },
  {
   "cell_type": "markdown",
   "metadata": {},
   "source": [
    "__Save you notebook as html by going to File --> Download as --> html.__\n",
    "\n",
    "__Add you last name to the filename. Upload your pdf to bCourses.__"
   ]
  },
  {
   "cell_type": "code",
   "execution_count": null,
   "metadata": {},
   "outputs": [],
   "source": []
  }
 ],
 "metadata": {
  "kernelspec": {
   "display_name": "Python 3",
   "language": "python",
   "name": "python3"
  },
  "language_info": {
   "codemirror_mode": {
    "name": "ipython",
    "version": 3
   },
   "file_extension": ".py",
   "mimetype": "text/x-python",
   "name": "python",
   "nbconvert_exporter": "python",
   "pygments_lexer": "ipython3",
   "version": "3.6.7"
  }
 },
 "nbformat": 4,
 "nbformat_minor": 2
}
