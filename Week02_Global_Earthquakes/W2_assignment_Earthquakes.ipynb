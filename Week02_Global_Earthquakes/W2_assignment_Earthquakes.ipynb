{
 "cells": [
  {
   "cell_type": "markdown",
   "metadata": {},
   "source": [
    "# Week 2: Earthquake data assignment\n",
    "\n",
    "This assignment has three main parts:\n",
    "\n",
    "1) Inspect earthquakes that have occured over the past 30 days to determine where the largest recent earthquake happened. [10 points]\n",
    "\n",
    "2) Revisit the global earthquake catalog, make a map that shows magnitude and make interpretations about where the largest earthquakes happen. [10 points]\n",
    "\n",
    "3) Plot the seismograph associated with the largest earthquake of 2018 and make interpretations related to travel time. [10 points]"
   ]
  },
  {
   "cell_type": "markdown",
   "metadata": {},
   "source": [
    "To do these things, you will need to be using the python libraries we have used thus far:"
   ]
  },
  {
   "cell_type": "code",
   "execution_count": null,
   "metadata": {},
   "outputs": [],
   "source": [
    "import numpy as np\n",
    "import matplotlib.pyplot as plt\n",
    "import pandas as pd\n",
    "import cartopy.crs as ccrs\n",
    "from cartopy.io.shapereader import Reader"
   ]
  },
  {
   "cell_type": "markdown",
   "metadata": {},
   "source": [
    "## Recent earthquakes\n",
    "\n",
    "### Import the .csv file into a Pandas dataframe of earthquakes from the past 30 days\n",
    "\n",
    "Go to https://earthquake.usgs.gov/earthquakes/search/\n",
    "\n",
    "Download a .csv data file of all the earthquakes of magnitude 2.5 and higher from the past 30 days. To get a .csv, rather than a map, click on output options. Alternatively, you could use the USGS API to access the data as we did in the first in-class period by modifying this URL with the right dates:\n",
    "'https://earthquake.usgs.gov/fdsnws/event/1/query.csv?starttime=2019-04-23%2000:00:00&endtime=2019-05-23%2023:59:59&minmagnitude=2.5&orderby=time'"
   ]
  },
  {
   "cell_type": "code",
   "execution_count": null,
   "metadata": {},
   "outputs": [],
   "source": []
  },
  {
   "cell_type": "markdown",
   "metadata": {},
   "source": [
    "### Make a map of these earthquake locations\n",
    "\n",
    "Make a map where you plot these earthquake locations. In addition to plotting the earthquake locations, we can plot the location of plate boundaries. I took the plate boundaries provided by the US Geological Survey (USGS) and split them by their categorization into trenches (subduction zones), ridges (spreading centers) and transform (strike-slip boundaries like the San Andreas fault). The raw data are here: https://www.sciencebase.gov/catalog/item/4f4e4a48e4b07f02db62303e\n",
    "the data that are split out are in the data folder of this week's folder.\n",
    "\n",
    "The code below makes a map where these different plate boundaries are represented by different color lines."
   ]
  },
  {
   "cell_type": "code",
   "execution_count": null,
   "metadata": {},
   "outputs": [],
   "source": [
    "plt.figure(1,(15,15)) # make a big figure \n",
    "\n",
    "ax = plt.axes(projection=ccrs.Robinson(180))\n",
    "ax.set_global()\n",
    "\n",
    "ax.coastlines()\n",
    "ax.gridlines()\n",
    "\n",
    "data = Reader('data/Plate_Boundaries_transform.shp')\n",
    "ax.add_geometries(data.geometries(), crs=ccrs.PlateCarree(), \n",
    "                  edgecolor='orange', facecolor='none',\n",
    "                  linewidth=3, label='transform boundary')\n",
    "\n",
    "data = Reader('data/Plate_Boundaries_trenches.shp')\n",
    "ax.add_geometries(data.geometries(), crs=ccrs.PlateCarree(), \n",
    "                  edgecolor='darkblue', facecolor='none',\n",
    "                  linewidth=3)\n",
    "\n",
    "data = Reader('data/Plate_Boundaries_ridges.shp')\n",
    "ax.add_geometries(data.geometries(), crs=ccrs.PlateCarree(), \n",
    "                  edgecolor='red', facecolor='none',\n",
    "                  linewidth=3)\n",
    "\n",
    "plt.title('map of plate boundaries (red=ridge; blue=trench; orange=transform)')\n",
    "plt.show()"
   ]
  },
  {
   "cell_type": "markdown",
   "metadata": {},
   "source": [
    "**Make a map where these plate boundaries are shown and the recent earthquake locations are also plotted.**"
   ]
  },
  {
   "cell_type": "code",
   "execution_count": null,
   "metadata": {},
   "outputs": [],
   "source": []
  },
  {
   "cell_type": "markdown",
   "metadata": {},
   "source": [
    "After you have made the map, **answer these questions**. Additional code will be necessary and you will want to interpret the data in the context of the map with the plate boundaries shown. Remember that you can apply the `.describe()` function to the dataframe object:\n",
    "- *What was the largest magnitude earthquake to occur in the past 30 days?*\n",
    "- *Where did this large earthquake occur?*\n",
    "- *What type of plate boundary is this location?*"
   ]
  },
  {
   "cell_type": "code",
   "execution_count": null,
   "metadata": {},
   "outputs": [],
   "source": []
  },
  {
   "cell_type": "code",
   "execution_count": null,
   "metadata": {},
   "outputs": [],
   "source": []
  },
  {
   "cell_type": "markdown",
   "metadata": {},
   "source": [
    "Markdown cell\n",
    "\n",
    "**write you responses to these questions**\n",
    "- *What was the largest magnitude earthquake to occur in the past 30 days?*\n",
    "- *Where did this large earthquake occur?*\n",
    "- *What type of plate boundary is this location?*"
   ]
  },
  {
   "cell_type": "markdown",
   "metadata": {},
   "source": [
    "## The global earthquake catalog\n",
    "Revisit the global earthquake catalog ('data/ANSS_2000_2012.csv') with the goal of determining where the largest earthquakes occur. You can start by importing the data:"
   ]
  },
  {
   "cell_type": "code",
   "execution_count": null,
   "metadata": {},
   "outputs": [],
   "source": [
    "all_earthquakes = pd.read_csv('data/ANSS_2000_2012.csv',header=7)\n",
    "all_earthquakes.head()"
   ]
  },
  {
   "cell_type": "markdown",
   "metadata": {},
   "source": [
    "Make a map that categorizes earthquakes by magnitude. Here is my suggestion for how this could be done:\n",
    "- import the 'data/ANSS_2000_2012.csv' as a dataframe and then filter that dataframe to make a new dataframe that only has large earthquakes (magnitude 5 or greater), another that only has the larger earthquakes (magnitude 6 or greater) and another that only has the largest earthquakes (magnitude 7 or greater) and make a map where they are plotted along with all the other earthquakes, but in a separate colors/sizes. A dataframe can be filtered using syntax like this where `dataframe` is the name of the dataframe that has your data and `dataframe_new` being whatever name you want to assign to your new dataframe: \n",
    "\n",
    "`earthquakes_mag5 = [all_earthquakes['magnitude'] > 5]`\n",
    "\n",
    "It can also be filtered by multiple conditions like this:\n",
    "\n",
    "`earthquakes_mag5 = [(all_earthquakes['Magnitude'] > 5) & (all_earthquakes['Magnitude'] < 6)]`"
   ]
  },
  {
   "cell_type": "code",
   "execution_count": null,
   "metadata": {},
   "outputs": [],
   "source": [
    "#Develop dataframes filtered by magnitude"
   ]
  },
  {
   "cell_type": "markdown",
   "metadata": {},
   "source": [
    "Make a map where earthquakes of greater magnitude are plotted with larger symbols. In `plt.scatter` the `s=` parameter can be used to set symbol size. I would recommend making each symbol be twice as large as the previous on (e.g. s=4 for earthquakes_mag5 and s=8 for earthquakes_mag6). You should label each"
   ]
  },
  {
   "cell_type": "code",
   "execution_count": null,
   "metadata": {},
   "outputs": [],
   "source": [
    "plt.figure(1,(10,10)) # make a big figure \n",
    "ax = plt.axes(projection=ccrs.Robinson())\n",
    "ax.set_global()\n",
    "\n",
    "plt.scatter(earthquakes_mag5['Longitude'],earthquakes_mag5['Latitude'],\n",
    "            transform=ccrs.PlateCarree(),s=4,label='magnitude 5')\n",
    "# Add plt.scatter() for the rest of the magnitude dataframes. \n",
    "# Make sure to label them so that they show up in the legend\n",
    "\n",
    "plt.legend()        \n",
    "plt.show()"
   ]
  },
  {
   "cell_type": "markdown",
   "metadata": {},
   "source": [
    "After you have made such a map, answer these questions:\n",
    "- *At what type of plate boundaries do the largest earthquakes occur?*\n",
    "- *At what depths do the largest earthquakes occur? Additional code that makes additional plots to answer this question. A depth vs magnitude plot would be helpful for example.*\n",
    "\n",
    "**Write your answers here**"
   ]
  },
  {
   "cell_type": "code",
   "execution_count": null,
   "metadata": {},
   "outputs": [],
   "source": []
  },
  {
   "cell_type": "code",
   "execution_count": null,
   "metadata": {},
   "outputs": [],
   "source": []
  },
  {
   "cell_type": "markdown",
   "metadata": {},
   "source": [
    "## Largest Earthquake in 2018\n",
    "\n",
    "The largest earthquake of 2018 occured 286km NNE of Ndoi Island, Fiji at 18.113°S 178.153°W and was a magnitude 8.2 event.\n",
    "\n",
    "Below is a map of the earthquake location and the location of the Columbia College, Columbia, CA, USA seismic station that recorded a seismograph we will be analyzing.  The default for global projections is that the center be a longitude of 0, but it can be changed to be different like a longitude of 180 which works better for this map:\n",
    "\n",
    "```ax = plt.axes(projection=ccrs.Robinson(180))```\n",
    "\n",
    "Go ahead and add plate boundaries to this map as well."
   ]
  },
  {
   "cell_type": "code",
   "execution_count": null,
   "metadata": {},
   "outputs": [],
   "source": [
    "# Earthquake location\n",
    "Fiji_Earthquake_lat = -18.113\n",
    "Fiji_Earthquake_lon = -178.153\n",
    "\n",
    "# Station Location Columbia College, Columbia, CA, USA\n",
    "station_lat = 38.03455\n",
    "station_lon = -120.38651\n",
    "\n",
    "plt.figure(1,(10,10))\n",
    "\n",
    "ax = plt.axes(projection=ccrs.Orthographic(central_longitude=200.0, central_latitude=0.0))\n",
    "ax.set_global()\n",
    "\n",
    "plt.scatter(Fiji_Earthquake_lon,Fiji_Earthquake_lat,s=100,marker='o',\n",
    "            color='red', edgecolor='black',transform=ccrs.PlateCarree())\n",
    "plt.text(Fiji_Earthquake_lon+5,Fiji_Earthquake_lat,'Fiji Earthquake',fontsize=14,color='red',\n",
    "         transform=ccrs.PlateCarree())\n",
    "\n",
    "plt.scatter(station_lon,station_lat,s=100,marker='o',\n",
    "            color='red', edgecolor='black',transform=ccrs.PlateCarree())\n",
    "plt.text(station_lon+5,station_lat,'Columbia College',fontsize=14,color='red',\n",
    "         transform=ccrs.PlateCarree())\n",
    "\n",
    "plt.plot([Fiji_Earthquake_lon,station_lon],[Fiji_Earthquake_lat,station_lat],\n",
    "         color='red',transform=ccrs.Geodetic())\n",
    "\n",
    "ax.coastlines()\n",
    "ax.stock_img()\n",
    "ax.gridlines()\n",
    "\n",
    "plt.show()"
   ]
  },
  {
   "cell_type": "markdown",
   "metadata": {},
   "source": [
    "We can compute this length of the line between the earthquake and the seismic station with the equation $d = r \\theta $ where $d$ is the distance between the two points, $r$ is the radius (radius of Earth is 6371 kilometers), and $\\theta$ is the angular separation between the points in radians (in this case the angular distance between the earthquake and the station is 78 degrees)."
   ]
  },
  {
   "cell_type": "code",
   "execution_count": null,
   "metadata": {},
   "outputs": [],
   "source": [
    "radius = ...; # earth's radius in kilometers\n",
    "ang_deg = ...; # angular separation between EQ and station in degrees\n",
    "ang_rad = ang_deg * np.pi/180; # convert degrees to radians\n",
    "dist = ... * ...; # distance in kilometers\n",
    "print(dist) \n",
    "print('distance of earthquake from station (km)')"
   ]
  },
  {
   "cell_type": "markdown",
   "metadata": {},
   "source": [
    "*At what type of plate boundary did this earthquake occur?*\n",
    "\n",
    "**Write your answer here**"
   ]
  },
  {
   "cell_type": "markdown",
   "metadata": {},
   "source": [
    "## Load a Seismogram of this Earthquake"
   ]
  },
  {
   "cell_type": "markdown",
   "metadata": {},
   "source": [
    "Let's load the .csv (Comma Separated Variable) data file of the seismogram of the largest earthquake that occured in the past month, recorded at the Columbia College, Columbia, CA, USA seismic station. Samples were taken every 0.025 seconds (40 Hz) and the record starts 60 seconds before the P wave arrival. http://ds.iris.edu/wilber3/find_stations/10937540"
   ]
  },
  {
   "cell_type": "code",
   "execution_count": null,
   "metadata": {},
   "outputs": [],
   "source": [
    "seismogram = pd.read_csv('data/BK.CMB.00.BHZ.Q.2018-08-19T002937.019539.csv',header=9,names=['Time','Sample'])\n",
    "seismogram.head()"
   ]
  },
  {
   "cell_type": "markdown",
   "metadata": {},
   "source": [
    "The `Sample` column is a time series of the velocity of the ground motion at the location of the seismic station due to this earthquake. Let's rename it velocity."
   ]
  },
  {
   "cell_type": "code",
   "execution_count": null,
   "metadata": {},
   "outputs": [],
   "source": [
    "velocity = seismogram['Sample']"
   ]
  },
  {
   "cell_type": "markdown",
   "metadata": {},
   "source": [
    "Rather than parsing out time from the first column of our data, let's just use what we know about it to construct a timeline. Samples were taken every 0.025 seconds, the record starts 60 seconds before the P wave arrival, and we have 50399 samples."
   ]
  },
  {
   "cell_type": "code",
   "execution_count": null,
   "metadata": {},
   "outputs": [],
   "source": [
    "time_sec = (np.linspace(0,50398,50399)*0.025)-60\n",
    "time_minutes = time_sec/60"
   ]
  },
  {
   "cell_type": "markdown",
   "metadata": {},
   "source": [
    "Let's plot the seismogram (`time_minutes` on the x-axis and `velocity` on the y-axis), add labels and use `annotate` to label the P and S waves' arrivals. "
   ]
  },
  {
   "cell_type": "code",
   "execution_count": null,
   "metadata": {},
   "outputs": [],
   "source": [
    "fig = plt.figure(1,(20,5))\n",
    "ax = fig.add_subplot(111)\n",
    "\n",
    "plt.plot(...,...)\n",
    "plt.xlabel('...', fontsize=14)\n",
    "plt.ylabel('...', fontsize=14)\n",
    "plt.title('Seismogram of Ndoi Island, Fiji earthquake recorded at Columbia College', fontsize=14)\n",
    "\n",
    "ax.annotate('P wave', xy=(0.0, 250000.0), xytext=(0.0, 600000.0),\n",
    "            arrowprops=dict(facecolor='black'=), fontsize=14,\n",
    "            )\n",
    "ax.annotate('S wave', xy=(9.1, 250000.0), xytext=(9, 600000.0),\n",
    "            arrowprops=dict(facecolor='black'=), fontsize=14,\n",
    "            )\n",
    "plt.show()"
   ]
  },
  {
   "cell_type": "markdown",
   "metadata": {},
   "source": [
    "Using the annotations, I have indicated when the P wave arrived (0 minutes) and when the S wave arrived (9.1 minutes) The P (primary) wave arrives before the S (secondary/shear) wave. The farther away an earthquake is from a receiver, the more time there is between the arrivals of the P and S waves.\n",
    "\n",
    "<img src=\"Figures/seis_wave_annotated.png\">\n",
    "\n",
    "*Source: Essentials of Geology (13th Edition) Lutgens, F. K., Tarbuck, E. J., Tasa, D. G.*\n",
    "\n",
    "The difference in these arrival times can be used to determine the distance from the recording station to the earthquake using a travel time curve if we know the velocities of the waves through the Earth.  So first we need to know how these two waves behave — particularly their velocities. Check out this short video demonstration (click on the video the right once you click through the link). \n",
    "\n",
    "https://www.iris.edu/hq/inclass/animation/traveltime_curves_how_they_are_created\n",
    "\n",
    "I found calculated P and S wave travel times for an earthquake at 33 km depth here (https://earthquake.usgs.gov/learn/topics/ttgraph.php) which is based on this study:\n",
    "\n",
    "*Kennett, B. L. N. and E. R. Engdahl (1991). Travel times for global earthquake location and phase identification, Geophys. J. Int., v 105, p 429-465.*\n",
    "\n",
    "The data are within the data folder as `arrival_times.csv`. Let's import them as a dataframe."
   ]
  },
  {
   "cell_type": "code",
   "execution_count": null,
   "metadata": {},
   "outputs": [],
   "source": [
    "travel_times = pd.read_csv('data/arrival_times.csv')\n",
    "travel_times.head()"
   ]
  },
  {
   "cell_type": "markdown",
   "metadata": {},
   "source": [
    "We can make a plot of the travel times."
   ]
  },
  {
   "cell_type": "code",
   "execution_count": null,
   "metadata": {},
   "outputs": [],
   "source": [
    "plt.plot(travel_times['degrees_from_quake'],travel_times['P_wave_time'],label='P waves')\n",
    "plt.plot(travel_times['degrees_from_quake'],travel_times['S_wave_time'],label='S waves')\n",
    "plt.xlabel('Distance (degrees)')\n",
    "plt.ylabel('Time (minutes)')\n",
    "plt.legend()\n",
    "plt.show()"
   ]
  },
  {
   "cell_type": "markdown",
   "metadata": {},
   "source": [
    "From the interpretation of the seismograph, we know that at Columbia College, the S wave arrived 9.1 minutes (9 minutes 6 seconds) after the P wave. We want to use this travel time curve to estimate the distance. To start with, make a new column in the travel_times dataframe that is the difference between the two times. In pandas you can make a new column that is a calculation of other columns. So if you had a column called 'column_b' and one called 'column_a' you could make a new column like this:\n",
    "\n",
    "```travel_times['new_column'] = travel_times['column_b'] - travel_times['column_a']```\n",
    "\n",
    "Go ahead and make a new column called 'S-P_difference' that is the difference between the S wave time and the P wave time. Then make a plot of it vs. distance from earthquake."
   ]
  },
  {
   "cell_type": "code",
   "execution_count": null,
   "metadata": {},
   "outputs": [],
   "source": []
  },
  {
   "cell_type": "code",
   "execution_count": null,
   "metadata": {},
   "outputs": [],
   "source": []
  },
  {
   "cell_type": "markdown",
   "metadata": {},
   "source": [
    "Once you have plotted this travel time difference curve, use it (and/or) the S-P_difference to estimate the distance in degrees and also calculate it in kilometers.\n",
    "\n",
    "_Write your answer here._\n",
    "\n",
    "How does this estimate compare to the distance between the earthquake and the station given above?\n",
    "\n",
    "_Write your answer here._"
   ]
  },
  {
   "cell_type": "code",
   "execution_count": null,
   "metadata": {},
   "outputs": [],
   "source": []
  },
  {
   "cell_type": "code",
   "execution_count": null,
   "metadata": {},
   "outputs": [],
   "source": []
  }
 ],
 "metadata": {
  "kernelspec": {
   "display_name": "Python 3",
   "language": "python",
   "name": "python3"
  },
  "language_info": {
   "codemirror_mode": {
    "name": "ipython",
    "version": 3
   },
   "file_extension": ".py",
   "mimetype": "text/x-python",
   "name": "python",
   "nbconvert_exporter": "python",
   "pygments_lexer": "ipython3",
   "version": "3.6.7"
  }
 },
 "nbformat": 4,
 "nbformat_minor": 2
}
